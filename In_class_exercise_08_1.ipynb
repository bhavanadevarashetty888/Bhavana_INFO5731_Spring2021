{
  "nbformat": 4,
  "nbformat_minor": 0,
  "metadata": {
    "kernelspec": {
      "display_name": "Python 3",
      "language": "python",
      "name": "python3"
    },
    "language_info": {
      "codemirror_mode": {
        "name": "ipython",
        "version": 3
      },
      "file_extension": ".py",
      "mimetype": "text/x-python",
      "name": "python",
      "nbconvert_exporter": "python",
      "pygments_lexer": "ipython3",
      "version": "3.8.5"
    },
    "colab": {
      "name": "In_class_exercise_08-1.ipynb",
      "provenance": [],
      "include_colab_link": true
    }
  },
  "cells": [
    {
      "cell_type": "markdown",
      "metadata": {
        "id": "view-in-github",
        "colab_type": "text"
      },
      "source": [
        "<a href=\"https://colab.research.google.com/github/bhavanadevarashetty888/Bhavana_INFO5731_Spring2021/blob/main/In_class_exercise_08_1.ipynb\" target=\"_parent\"><img src=\"https://colab.research.google.com/assets/colab-badge.svg\" alt=\"Open In Colab\"/></a>"
      ]
    },
    {
      "cell_type": "markdown",
      "metadata": {
        "id": "2CW2Z8NFzL-F"
      },
      "source": [
        "# **The eighth in-class-exercise (20 points in total, 3/30/2021)**"
      ]
    },
    {
      "cell_type": "markdown",
      "metadata": {
        "id": "jMTJERwWzL-I"
      },
      "source": [
        "The data for this exercise is from the dataset you created from assignment three. Please perform answer the following questions based on your data:"
      ]
    },
    {
      "cell_type": "markdown",
      "metadata": {
        "id": "Swk606_kzL-K"
      },
      "source": [
        "## (1) (10 points) Write a python program to extract the sentiment related terms from the corpus. You may use python package such as polyglot or external lexicon resources in the question. Rank the sentiment related terms by frequency."
      ]
    },
    {
      "cell_type": "code",
      "metadata": {
        "colab": {
          "base_uri": "https://localhost:8080/",
          "height": 195
        },
        "id": "JR_lpCtmzL-L",
        "outputId": "663e9b28-9a66-461b-beef-67814ae6020d"
      },
      "source": [
        "# Write your code here\n",
        "\n",
        "import pandas as pd\n",
        "\n",
        "sentiment_data = pd.read_csv(\"/content/sentimentAnal.csv\")\n",
        "\n",
        "sentiment_data.head(10)\n",
        "\n",
        "required_df=sentiment_data[[\"User Names\",\"Reviews\"]]\n",
        "\n",
        "required_df.head(5)\n",
        "\n"
      ],
      "execution_count": 2,
      "outputs": [
        {
          "output_type": "execute_result",
          "data": {
            "text/html": [
              "<div>\n",
              "<style scoped>\n",
              "    .dataframe tbody tr th:only-of-type {\n",
              "        vertical-align: middle;\n",
              "    }\n",
              "\n",
              "    .dataframe tbody tr th {\n",
              "        vertical-align: top;\n",
              "    }\n",
              "\n",
              "    .dataframe thead th {\n",
              "        text-align: right;\n",
              "    }\n",
              "</style>\n",
              "<table border=\"1\" class=\"dataframe\">\n",
              "  <thead>\n",
              "    <tr style=\"text-align: right;\">\n",
              "      <th></th>\n",
              "      <th>User Names</th>\n",
              "      <th>Reviews</th>\n",
              "    </tr>\n",
              "  </thead>\n",
              "  <tbody>\n",
              "    <tr>\n",
              "      <th>0</th>\n",
              "      <td>morino-59166</td>\n",
              "      <td>When I saw the magnificent Heath ledger a few ...</td>\n",
              "    </tr>\n",
              "    <tr>\n",
              "      <th>1</th>\n",
              "      <td>asassandroo</td>\n",
              "      <td>I can say that i'm really grateful that movies...</td>\n",
              "    </tr>\n",
              "    <tr>\n",
              "      <th>2</th>\n",
              "      <td>samanehdds</td>\n",
              "      <td>I'm not a fan of Batman movies but went to see...</td>\n",
              "    </tr>\n",
              "    <tr>\n",
              "      <th>3</th>\n",
              "      <td>guillevica</td>\n",
              "      <td>What a master piece, it so so wondeful, all in...</td>\n",
              "    </tr>\n",
              "    <tr>\n",
              "      <th>4</th>\n",
              "      <td>ahurworth</td>\n",
              "      <td>Has to be the best movie I've seen in years. I...</td>\n",
              "    </tr>\n",
              "  </tbody>\n",
              "</table>\n",
              "</div>"
            ],
            "text/plain": [
              "     User Names                                            Reviews\n",
              "0  morino-59166  When I saw the magnificent Heath ledger a few ...\n",
              "1   asassandroo  I can say that i'm really grateful that movies...\n",
              "2    samanehdds  I'm not a fan of Batman movies but went to see...\n",
              "3    guillevica  What a master piece, it so so wondeful, all in...\n",
              "4     ahurworth  Has to be the best movie I've seen in years. I..."
            ]
          },
          "metadata": {
            "tags": []
          },
          "execution_count": 2
        }
      ]
    },
    {
      "cell_type": "code",
      "metadata": {
        "colab": {
          "base_uri": "https://localhost:8080/"
        },
        "id": "9bELi_Kr7hkE",
        "outputId": "1d5c28ab-3a7a-473b-f333-99712e67dd63"
      },
      "source": [
        "import nltk\n",
        "nltk.download('punkt')\n",
        "nltk.download('stopwords')\n",
        "\n",
        "from nltk.corpus import stopwords\n",
        "stopwords = list(stopwords.words('english'))"
      ],
      "execution_count": 5,
      "outputs": [
        {
          "output_type": "stream",
          "text": [
            "[nltk_data] Downloading package punkt to /root/nltk_data...\n",
            "[nltk_data]   Package punkt is already up-to-date!\n",
            "[nltk_data] Downloading package stopwords to /root/nltk_data...\n",
            "[nltk_data]   Package stopwords is already up-to-date!\n"
          ],
          "name": "stdout"
        }
      ]
    },
    {
      "cell_type": "code",
      "metadata": {
        "colab": {
          "base_uri": "https://localhost:8080/",
          "height": 296
        },
        "id": "xwMt7MS47qg_",
        "outputId": "e6c4c1f4-fa45-4a79-e120-26f426c9b650"
      },
      "source": [
        "required_df[\"tokens\"] = required_df[\"Reviews\"].apply(lambda x : nltk.word_tokenize(str(x)))\n",
        "required_df.head(5)"
      ],
      "execution_count": 6,
      "outputs": [
        {
          "output_type": "stream",
          "text": [
            "/usr/local/lib/python3.7/dist-packages/ipykernel_launcher.py:1: SettingWithCopyWarning: \n",
            "A value is trying to be set on a copy of a slice from a DataFrame.\n",
            "Try using .loc[row_indexer,col_indexer] = value instead\n",
            "\n",
            "See the caveats in the documentation: https://pandas.pydata.org/pandas-docs/stable/user_guide/indexing.html#returning-a-view-versus-a-copy\n",
            "  \"\"\"Entry point for launching an IPython kernel.\n"
          ],
          "name": "stderr"
        },
        {
          "output_type": "execute_result",
          "data": {
            "text/html": [
              "<div>\n",
              "<style scoped>\n",
              "    .dataframe tbody tr th:only-of-type {\n",
              "        vertical-align: middle;\n",
              "    }\n",
              "\n",
              "    .dataframe tbody tr th {\n",
              "        vertical-align: top;\n",
              "    }\n",
              "\n",
              "    .dataframe thead th {\n",
              "        text-align: right;\n",
              "    }\n",
              "</style>\n",
              "<table border=\"1\" class=\"dataframe\">\n",
              "  <thead>\n",
              "    <tr style=\"text-align: right;\">\n",
              "      <th></th>\n",
              "      <th>User Names</th>\n",
              "      <th>Reviews</th>\n",
              "      <th>tokens</th>\n",
              "    </tr>\n",
              "  </thead>\n",
              "  <tbody>\n",
              "    <tr>\n",
              "      <th>0</th>\n",
              "      <td>morino-59166</td>\n",
              "      <td>When I saw the magnificent Heath ledger a few ...</td>\n",
              "      <td>[When, I, saw, the, magnificent, Heath, ledger...</td>\n",
              "    </tr>\n",
              "    <tr>\n",
              "      <th>1</th>\n",
              "      <td>asassandroo</td>\n",
              "      <td>I can say that i'm really grateful that movies...</td>\n",
              "      <td>[I, can, say, that, i, 'm, really, grateful, t...</td>\n",
              "    </tr>\n",
              "    <tr>\n",
              "      <th>2</th>\n",
              "      <td>samanehdds</td>\n",
              "      <td>I'm not a fan of Batman movies but went to see...</td>\n",
              "      <td>[I, 'm, not, a, fan, of, Batman, movies, but, ...</td>\n",
              "    </tr>\n",
              "    <tr>\n",
              "      <th>3</th>\n",
              "      <td>guillevica</td>\n",
              "      <td>What a master piece, it so so wondeful, all in...</td>\n",
              "      <td>[What, a, master, piece, ,, it, so, so, wondef...</td>\n",
              "    </tr>\n",
              "    <tr>\n",
              "      <th>4</th>\n",
              "      <td>ahurworth</td>\n",
              "      <td>Has to be the best movie I've seen in years. I...</td>\n",
              "      <td>[Has, to, be, the, best, movie, I, 've, seen, ...</td>\n",
              "    </tr>\n",
              "  </tbody>\n",
              "</table>\n",
              "</div>"
            ],
            "text/plain": [
              "     User Names  ...                                             tokens\n",
              "0  morino-59166  ...  [When, I, saw, the, magnificent, Heath, ledger...\n",
              "1   asassandroo  ...  [I, can, say, that, i, 'm, really, grateful, t...\n",
              "2    samanehdds  ...  [I, 'm, not, a, fan, of, Batman, movies, but, ...\n",
              "3    guillevica  ...  [What, a, master, piece, ,, it, so, so, wondef...\n",
              "4     ahurworth  ...  [Has, to, be, the, best, movie, I, 've, seen, ...\n",
              "\n",
              "[5 rows x 3 columns]"
            ]
          },
          "metadata": {
            "tags": []
          },
          "execution_count": 6
        }
      ]
    },
    {
      "cell_type": "code",
      "metadata": {
        "id": "YHi89l9O7871"
      },
      "source": [
        "import pandas as pd\n",
        "import numpy as np\n",
        "def compute_values(ip):\n",
        "  res1 =pd.value_counts(ip)\n",
        "  if(len(res1)==0 ):\n",
        "    res1 = [0]\n",
        "  return res1\n",
        "\n",
        "new_df = required_df[\"tokens\"].apply(lambda x : compute_values(x))\n",
        "\n",
        "new_df = new_df.fillna(0)\n",
        "final_df1 = pd.DataFrame(new_df.columns, columns=[\"tokens\"])\n",
        "res = pd.DataFrame(new_df.T.sum(axis=1),columns = [\"count_of_value\"]).values.tolist()\n",
        "final_df1[\"count_of_occurances\"] = pd.DataFrame(res)"
      ],
      "execution_count": 9,
      "outputs": []
    },
    {
      "cell_type": "code",
      "metadata": {
        "colab": {
          "base_uri": "https://localhost:8080/",
          "height": 195
        },
        "id": "ky2UnW7d8XpS",
        "outputId": "7201538a-63d1-4d1a-acef-42b31838099d"
      },
      "source": [
        "final_df1.head(5)"
      ],
      "execution_count": 10,
      "outputs": [
        {
          "output_type": "execute_result",
          "data": {
            "text/html": [
              "<div>\n",
              "<style scoped>\n",
              "    .dataframe tbody tr th:only-of-type {\n",
              "        vertical-align: middle;\n",
              "    }\n",
              "\n",
              "    .dataframe tbody tr th {\n",
              "        vertical-align: top;\n",
              "    }\n",
              "\n",
              "    .dataframe thead th {\n",
              "        text-align: right;\n",
              "    }\n",
              "</style>\n",
              "<table border=\"1\" class=\"dataframe\">\n",
              "  <thead>\n",
              "    <tr style=\"text-align: right;\">\n",
              "      <th></th>\n",
              "      <th>tokens</th>\n",
              "      <th>count_of_occurances</th>\n",
              "    </tr>\n",
              "  </thead>\n",
              "  <tbody>\n",
              "    <tr>\n",
              "      <th>0</th>\n",
              "      <td>I</td>\n",
              "      <td>135.0</td>\n",
              "    </tr>\n",
              "    <tr>\n",
              "      <th>1</th>\n",
              "      <td>the</td>\n",
              "      <td>308.0</td>\n",
              "    </tr>\n",
              "    <tr>\n",
              "      <th>2</th>\n",
              "      <td>a</td>\n",
              "      <td>220.0</td>\n",
              "    </tr>\n",
              "    <tr>\n",
              "      <th>3</th>\n",
              "      <td>that</td>\n",
              "      <td>89.0</td>\n",
              "    </tr>\n",
              "    <tr>\n",
              "      <th>4</th>\n",
              "      <td>in</td>\n",
              "      <td>103.0</td>\n",
              "    </tr>\n",
              "  </tbody>\n",
              "</table>\n",
              "</div>"
            ],
            "text/plain": [
              "  tokens  count_of_occurances\n",
              "0      I                135.0\n",
              "1    the                308.0\n",
              "2      a                220.0\n",
              "3   that                 89.0\n",
              "4     in                103.0"
            ]
          },
          "metadata": {
            "tags": []
          },
          "execution_count": 10
        }
      ]
    },
    {
      "cell_type": "code",
      "metadata": {
        "colab": {
          "base_uri": "https://localhost:8080/"
        },
        "id": "8qYj3dwF8jIT",
        "outputId": "5442bd00-f8ab-4331-8c16-2859bbab93bb"
      },
      "source": [
        "!pip install TextBlob"
      ],
      "execution_count": 11,
      "outputs": [
        {
          "output_type": "stream",
          "text": [
            "Requirement already satisfied: TextBlob in /usr/local/lib/python3.7/dist-packages (0.15.3)\n",
            "Requirement already satisfied: nltk>=3.1 in /usr/local/lib/python3.7/dist-packages (from TextBlob) (3.2.5)\n",
            "Requirement already satisfied: six in /usr/local/lib/python3.7/dist-packages (from nltk>=3.1->TextBlob) (1.15.0)\n"
          ],
          "name": "stdout"
        }
      ]
    },
    {
      "cell_type": "code",
      "metadata": {
        "colab": {
          "base_uri": "https://localhost:8080/",
          "height": 343
        },
        "id": "oDRiEdPO8oCY",
        "outputId": "65c1fb6e-c369-4dfd-9f35-f8c899977196"
      },
      "source": [
        "from textblob  import TextBlob\n",
        "#find the polarity \n",
        "final_df1[\"polarity\"] = final_df1['tokens'].apply(lambda x: TextBlob(x).sentiment.polarity)\n",
        "\n",
        "#filter the influencing variables \n",
        "op1 = final_df1[\"polarity\"] != 0\n",
        "op1_filter = final_df1[op1]\n",
        "op1_filter.head(10)"
      ],
      "execution_count": 12,
      "outputs": [
        {
          "output_type": "execute_result",
          "data": {
            "text/html": [
              "<div>\n",
              "<style scoped>\n",
              "    .dataframe tbody tr th:only-of-type {\n",
              "        vertical-align: middle;\n",
              "    }\n",
              "\n",
              "    .dataframe tbody tr th {\n",
              "        vertical-align: top;\n",
              "    }\n",
              "\n",
              "    .dataframe thead th {\n",
              "        text-align: right;\n",
              "    }\n",
              "</style>\n",
              "<table border=\"1\" class=\"dataframe\">\n",
              "  <thead>\n",
              "    <tr style=\"text-align: right;\">\n",
              "      <th></th>\n",
              "      <th>tokens</th>\n",
              "      <th>count_of_occurances</th>\n",
              "      <th>polarity</th>\n",
              "    </tr>\n",
              "  </thead>\n",
              "  <tbody>\n",
              "    <tr>\n",
              "      <th>12</th>\n",
              "      <td>amazing</td>\n",
              "      <td>21.0</td>\n",
              "      <td>0.600000</td>\n",
              "    </tr>\n",
              "    <tr>\n",
              "      <th>13</th>\n",
              "      <td>new</td>\n",
              "      <td>4.0</td>\n",
              "      <td>0.136364</td>\n",
              "    </tr>\n",
              "    <tr>\n",
              "      <th>14</th>\n",
              "      <td>great</td>\n",
              "      <td>25.0</td>\n",
              "      <td>0.800000</td>\n",
              "    </tr>\n",
              "    <tr>\n",
              "      <th>33</th>\n",
              "      <td>really</td>\n",
              "      <td>20.0</td>\n",
              "      <td>0.200000</td>\n",
              "    </tr>\n",
              "    <tr>\n",
              "      <th>37</th>\n",
              "      <td>outstanding</td>\n",
              "      <td>5.0</td>\n",
              "      <td>0.500000</td>\n",
              "    </tr>\n",
              "    <tr>\n",
              "      <th>45</th>\n",
              "      <td>tragic</td>\n",
              "      <td>2.0</td>\n",
              "      <td>-0.750000</td>\n",
              "    </tr>\n",
              "    <tr>\n",
              "      <th>50</th>\n",
              "      <td>few</td>\n",
              "      <td>2.0</td>\n",
              "      <td>-0.200000</td>\n",
              "    </tr>\n",
              "    <tr>\n",
              "      <th>70</th>\n",
              "      <td>magnificent</td>\n",
              "      <td>2.0</td>\n",
              "      <td>1.000000</td>\n",
              "    </tr>\n",
              "    <tr>\n",
              "      <th>77</th>\n",
              "      <td>beautiful</td>\n",
              "      <td>4.0</td>\n",
              "      <td>0.850000</td>\n",
              "    </tr>\n",
              "    <tr>\n",
              "      <th>79</th>\n",
              "      <td>absolutely</td>\n",
              "      <td>6.0</td>\n",
              "      <td>0.200000</td>\n",
              "    </tr>\n",
              "  </tbody>\n",
              "</table>\n",
              "</div>"
            ],
            "text/plain": [
              "         tokens  count_of_occurances  polarity\n",
              "12      amazing                 21.0  0.600000\n",
              "13          new                  4.0  0.136364\n",
              "14        great                 25.0  0.800000\n",
              "33       really                 20.0  0.200000\n",
              "37  outstanding                  5.0  0.500000\n",
              "45       tragic                  2.0 -0.750000\n",
              "50          few                  2.0 -0.200000\n",
              "70  magnificent                  2.0  1.000000\n",
              "77    beautiful                  4.0  0.850000\n",
              "79   absolutely                  6.0  0.200000"
            ]
          },
          "metadata": {
            "tags": []
          },
          "execution_count": 12
        }
      ]
    },
    {
      "cell_type": "code",
      "metadata": {
        "id": "xfecXq7n83xk"
      },
      "source": [
        "#rank the words based on the occurance \n",
        "result1 = op1_filter.sort_values(by = [\"count_of_occurances\"],ascending = False).reset_index()"
      ],
      "execution_count": 13,
      "outputs": []
    },
    {
      "cell_type": "markdown",
      "metadata": {
        "id": "rlM1-aHwzL-M"
      },
      "source": [
        "## (2) (10 points) Compare the performance of the following tools in sentiment identification: TextBlob (https://textblob.readthedocs.io/en/dev/), VADER (https://github.com/cjhutto/vaderSentiment), TFIDF-based Support Vector Machine (SVM) (Split your data into training and testing data). Take your own annotation as the standard answers. \n",
        "\n",
        "Reference code: https://towardsdatascience.com/fine-grained-sentiment-analysis-in-python-part-1-2697bb111ed4"
      ]
    },
    {
      "cell_type": "code",
      "metadata": {
        "colab": {
          "base_uri": "https://localhost:8080/",
          "height": 195
        },
        "id": "pSZIa7e8zL-M",
        "outputId": "42c39965-1999-4405-f989-8999610ded89"
      },
      "source": [
        "final_df1[\"polarity\"] = sentiment_data[\"Reviews\"].apply(lambda x: TextBlob(str(x)).sentiment.polarity)\n",
        "final_df1.head(5)"
      ],
      "execution_count": 35,
      "outputs": [
        {
          "output_type": "execute_result",
          "data": {
            "text/html": [
              "<div>\n",
              "<style scoped>\n",
              "    .dataframe tbody tr th:only-of-type {\n",
              "        vertical-align: middle;\n",
              "    }\n",
              "\n",
              "    .dataframe tbody tr th {\n",
              "        vertical-align: top;\n",
              "    }\n",
              "\n",
              "    .dataframe thead th {\n",
              "        text-align: right;\n",
              "    }\n",
              "</style>\n",
              "<table border=\"1\" class=\"dataframe\">\n",
              "  <thead>\n",
              "    <tr style=\"text-align: right;\">\n",
              "      <th></th>\n",
              "      <th>tokens</th>\n",
              "      <th>count_of_occurances</th>\n",
              "      <th>polarity</th>\n",
              "      <th>sentiment_res</th>\n",
              "    </tr>\n",
              "  </thead>\n",
              "  <tbody>\n",
              "    <tr>\n",
              "      <th>0</th>\n",
              "      <td>I</td>\n",
              "      <td>135.0</td>\n",
              "      <td>0.333690</td>\n",
              "      <td>neutral</td>\n",
              "    </tr>\n",
              "    <tr>\n",
              "      <th>1</th>\n",
              "      <td>the</td>\n",
              "      <td>308.0</td>\n",
              "      <td>0.204945</td>\n",
              "      <td>negative</td>\n",
              "    </tr>\n",
              "    <tr>\n",
              "      <th>2</th>\n",
              "      <td>a</td>\n",
              "      <td>220.0</td>\n",
              "      <td>0.322222</td>\n",
              "      <td>neutral</td>\n",
              "    </tr>\n",
              "    <tr>\n",
              "      <th>3</th>\n",
              "      <td>that</td>\n",
              "      <td>89.0</td>\n",
              "      <td>0.700000</td>\n",
              "      <td>positive</td>\n",
              "    </tr>\n",
              "    <tr>\n",
              "      <th>4</th>\n",
              "      <td>in</td>\n",
              "      <td>103.0</td>\n",
              "      <td>0.314286</td>\n",
              "      <td>neutral</td>\n",
              "    </tr>\n",
              "  </tbody>\n",
              "</table>\n",
              "</div>"
            ],
            "text/plain": [
              "  tokens  count_of_occurances  polarity sentiment_res\n",
              "0      I                135.0  0.333690       neutral\n",
              "1    the                308.0  0.204945      negative\n",
              "2      a                220.0  0.322222       neutral\n",
              "3   that                 89.0  0.700000      positive\n",
              "4     in                103.0  0.314286       neutral"
            ]
          },
          "metadata": {
            "tags": []
          },
          "execution_count": 35
        }
      ]
    },
    {
      "cell_type": "code",
      "metadata": {
        "id": "phZXOAT4GaJu"
      },
      "source": [
        "final_df1['sentiments'] = pd.cut(final_df1['polarity'], bins=3, labels=[\"negative\", \"neutral\", \"positive\"])\n",
        "final_df1[\"sentiment_res\"]=final_df1[\"sentiment_res\"].fillna(\"negative\")"
      ],
      "execution_count": 37,
      "outputs": []
    },
    {
      "cell_type": "code",
      "metadata": {
        "colab": {
          "base_uri": "https://localhost:8080/",
          "height": 195
        },
        "id": "_DrLElUlSxvz",
        "outputId": "d992a55d-bf0e-425d-949a-aab62a0404ee"
      },
      "source": [
        "final_df1.head(5)"
      ],
      "execution_count": 38,
      "outputs": [
        {
          "output_type": "execute_result",
          "data": {
            "text/html": [
              "<div>\n",
              "<style scoped>\n",
              "    .dataframe tbody tr th:only-of-type {\n",
              "        vertical-align: middle;\n",
              "    }\n",
              "\n",
              "    .dataframe tbody tr th {\n",
              "        vertical-align: top;\n",
              "    }\n",
              "\n",
              "    .dataframe thead th {\n",
              "        text-align: right;\n",
              "    }\n",
              "</style>\n",
              "<table border=\"1\" class=\"dataframe\">\n",
              "  <thead>\n",
              "    <tr style=\"text-align: right;\">\n",
              "      <th></th>\n",
              "      <th>tokens</th>\n",
              "      <th>count_of_occurances</th>\n",
              "      <th>polarity</th>\n",
              "      <th>sentiment_res</th>\n",
              "      <th>sentiments</th>\n",
              "    </tr>\n",
              "  </thead>\n",
              "  <tbody>\n",
              "    <tr>\n",
              "      <th>0</th>\n",
              "      <td>I</td>\n",
              "      <td>135.0</td>\n",
              "      <td>0.333690</td>\n",
              "      <td>neutral</td>\n",
              "      <td>neutral</td>\n",
              "    </tr>\n",
              "    <tr>\n",
              "      <th>1</th>\n",
              "      <td>the</td>\n",
              "      <td>308.0</td>\n",
              "      <td>0.204945</td>\n",
              "      <td>negative</td>\n",
              "      <td>negative</td>\n",
              "    </tr>\n",
              "    <tr>\n",
              "      <th>2</th>\n",
              "      <td>a</td>\n",
              "      <td>220.0</td>\n",
              "      <td>0.322222</td>\n",
              "      <td>neutral</td>\n",
              "      <td>neutral</td>\n",
              "    </tr>\n",
              "    <tr>\n",
              "      <th>3</th>\n",
              "      <td>that</td>\n",
              "      <td>89.0</td>\n",
              "      <td>0.700000</td>\n",
              "      <td>positive</td>\n",
              "      <td>positive</td>\n",
              "    </tr>\n",
              "    <tr>\n",
              "      <th>4</th>\n",
              "      <td>in</td>\n",
              "      <td>103.0</td>\n",
              "      <td>0.314286</td>\n",
              "      <td>neutral</td>\n",
              "      <td>neutral</td>\n",
              "    </tr>\n",
              "  </tbody>\n",
              "</table>\n",
              "</div>"
            ],
            "text/plain": [
              "  tokens  count_of_occurances  polarity sentiment_res sentiments\n",
              "0      I                135.0  0.333690       neutral    neutral\n",
              "1    the                308.0  0.204945      negative   negative\n",
              "2      a                220.0  0.322222       neutral    neutral\n",
              "3   that                 89.0  0.700000      positive   positive\n",
              "4     in                103.0  0.314286       neutral    neutral"
            ]
          },
          "metadata": {
            "tags": []
          },
          "execution_count": 38
        }
      ]
    },
    {
      "cell_type": "code",
      "metadata": {
        "colab": {
          "base_uri": "https://localhost:8080/",
          "height": 195
        },
        "id": "Sx_PhOUuTktt",
        "outputId": "9f207d0d-2115-438a-e85f-f24a5b9e804f"
      },
      "source": [
        "final_df1[\"sentiment_res\"] = final_df1[\"sentiment_res\"].fillna(\"negative\")\n",
        "final_df1.head(5)"
      ],
      "execution_count": 45,
      "outputs": [
        {
          "output_type": "execute_result",
          "data": {
            "text/html": [
              "<div>\n",
              "<style scoped>\n",
              "    .dataframe tbody tr th:only-of-type {\n",
              "        vertical-align: middle;\n",
              "    }\n",
              "\n",
              "    .dataframe tbody tr th {\n",
              "        vertical-align: top;\n",
              "    }\n",
              "\n",
              "    .dataframe thead th {\n",
              "        text-align: right;\n",
              "    }\n",
              "</style>\n",
              "<table border=\"1\" class=\"dataframe\">\n",
              "  <thead>\n",
              "    <tr style=\"text-align: right;\">\n",
              "      <th></th>\n",
              "      <th>tokens</th>\n",
              "      <th>count_of_occurances</th>\n",
              "      <th>polarity</th>\n",
              "      <th>sentiment_res</th>\n",
              "      <th>sentiments</th>\n",
              "    </tr>\n",
              "  </thead>\n",
              "  <tbody>\n",
              "    <tr>\n",
              "      <th>0</th>\n",
              "      <td>I</td>\n",
              "      <td>135.0</td>\n",
              "      <td>0.333690</td>\n",
              "      <td>neutral</td>\n",
              "      <td>neutral</td>\n",
              "    </tr>\n",
              "    <tr>\n",
              "      <th>1</th>\n",
              "      <td>the</td>\n",
              "      <td>308.0</td>\n",
              "      <td>0.204945</td>\n",
              "      <td>negative</td>\n",
              "      <td>negative</td>\n",
              "    </tr>\n",
              "    <tr>\n",
              "      <th>2</th>\n",
              "      <td>a</td>\n",
              "      <td>220.0</td>\n",
              "      <td>0.322222</td>\n",
              "      <td>neutral</td>\n",
              "      <td>neutral</td>\n",
              "    </tr>\n",
              "    <tr>\n",
              "      <th>3</th>\n",
              "      <td>that</td>\n",
              "      <td>89.0</td>\n",
              "      <td>0.700000</td>\n",
              "      <td>positive</td>\n",
              "      <td>positive</td>\n",
              "    </tr>\n",
              "    <tr>\n",
              "      <th>4</th>\n",
              "      <td>in</td>\n",
              "      <td>103.0</td>\n",
              "      <td>0.314286</td>\n",
              "      <td>neutral</td>\n",
              "      <td>neutral</td>\n",
              "    </tr>\n",
              "  </tbody>\n",
              "</table>\n",
              "</div>"
            ],
            "text/plain": [
              "  tokens  count_of_occurances  polarity sentiment_res sentiments\n",
              "0      I                135.0  0.333690       neutral    neutral\n",
              "1    the                308.0  0.204945      negative   negative\n",
              "2      a                220.0  0.322222       neutral    neutral\n",
              "3   that                 89.0  0.700000      positive   positive\n",
              "4     in                103.0  0.314286       neutral    neutral"
            ]
          },
          "metadata": {
            "tags": []
          },
          "execution_count": 45
        }
      ]
    },
    {
      "cell_type": "code",
      "metadata": {
        "colab": {
          "base_uri": "https://localhost:8080/"
        },
        "id": "E5lw4AUiVgOT",
        "outputId": "f8d732fb-83cf-4441-d198-5f7f76bfec0a"
      },
      "source": [
        "nltk.download('vader_lexicon')"
      ],
      "execution_count": 46,
      "outputs": [
        {
          "output_type": "stream",
          "text": [
            "[nltk_data] Downloading package vader_lexicon to /root/nltk_data...\n"
          ],
          "name": "stdout"
        },
        {
          "output_type": "execute_result",
          "data": {
            "text/plain": [
              "True"
            ]
          },
          "metadata": {
            "tags": []
          },
          "execution_count": 46
        }
      ]
    },
    {
      "cell_type": "code",
      "metadata": {
        "id": "ovBiFOdbVoDs"
      },
      "source": [
        "from nltk.sentiment.vader import SentimentIntensityAnalyzer as sa\n",
        "sentiment_intensity_analyzer = sa()\n",
        "required_df[\"polarity_dict\"] = required_df[\"Reviews\"].apply(lambda x: sentiment_intensity_analyzer.polarity_scores(str(x)))"
      ],
      "execution_count": 48,
      "outputs": []
    },
    {
      "cell_type": "code",
      "metadata": {
        "colab": {
          "base_uri": "https://localhost:8080/"
        },
        "id": "ZA-Hf_krXZRQ",
        "outputId": "37988849-6a95-400d-f77c-1ac96bc0bca6"
      },
      "source": [
        "required_df[\"polarity_dict\"].head(10)"
      ],
      "execution_count": 49,
      "outputs": [
        {
          "output_type": "execute_result",
          "data": {
            "text/plain": [
              "0    {'neg': 0.082, 'neu': 0.726, 'pos': 0.192, 'co...\n",
              "1    {'neg': 0.0, 'neu': 0.727, 'pos': 0.273, 'comp...\n",
              "2    {'neg': 0.158, 'neu': 0.559, 'pos': 0.284, 'co...\n",
              "3    {'neg': 0.0, 'neu': 0.689, 'pos': 0.311, 'comp...\n",
              "4    {'neg': 0.067, 'neu': 0.733, 'pos': 0.199, 'co...\n",
              "5    {'neg': 0.121, 'neu': 0.49, 'pos': 0.389, 'com...\n",
              "6    {'neg': 0.0, 'neu': 1.0, 'pos': 0.0, 'compound...\n",
              "7    {'neg': 0.276, 'neu': 0.645, 'pos': 0.078, 'co...\n",
              "8    {'neg': 0.095, 'neu': 0.607, 'pos': 0.299, 'co...\n",
              "9    {'neg': 0.132, 'neu': 0.716, 'pos': 0.152, 'co...\n",
              "Name: polarity_dict, dtype: object"
            ]
          },
          "metadata": {
            "tags": []
          },
          "execution_count": 49
        }
      ]
    },
    {
      "cell_type": "code",
      "metadata": {
        "id": "t3Yst83vXgrT"
      },
      "source": [
        "required_df[\"polarity\"] = required_df[\"Reviews\"].apply(lambda x: sentiment_intensity_analyzer.polarity_scores(str(x))[\"compound\"])"
      ],
      "execution_count": 50,
      "outputs": []
    },
    {
      "cell_type": "code",
      "metadata": {
        "id": "oao11U2rXpj_"
      },
      "source": [
        "required_df['sentiments'] = pd.cut(required_df['polarity'], bins=3, labels=[\"negative\", \"neutral\", \"positive\"])"
      ],
      "execution_count": 51,
      "outputs": []
    },
    {
      "cell_type": "code",
      "metadata": {
        "colab": {
          "base_uri": "https://localhost:8080/",
          "height": 195
        },
        "id": "v2mvRC5RX4aQ",
        "outputId": "25f7bf1a-f961-4143-dddd-0e380cd47985"
      },
      "source": [
        "required_df.head(5)"
      ],
      "execution_count": 52,
      "outputs": [
        {
          "output_type": "execute_result",
          "data": {
            "text/html": [
              "<div>\n",
              "<style scoped>\n",
              "    .dataframe tbody tr th:only-of-type {\n",
              "        vertical-align: middle;\n",
              "    }\n",
              "\n",
              "    .dataframe tbody tr th {\n",
              "        vertical-align: top;\n",
              "    }\n",
              "\n",
              "    .dataframe thead th {\n",
              "        text-align: right;\n",
              "    }\n",
              "</style>\n",
              "<table border=\"1\" class=\"dataframe\">\n",
              "  <thead>\n",
              "    <tr style=\"text-align: right;\">\n",
              "      <th></th>\n",
              "      <th>User Names</th>\n",
              "      <th>Reviews</th>\n",
              "      <th>tokens</th>\n",
              "      <th>polarity_dict</th>\n",
              "      <th>polarity</th>\n",
              "      <th>sentiments</th>\n",
              "    </tr>\n",
              "  </thead>\n",
              "  <tbody>\n",
              "    <tr>\n",
              "      <th>0</th>\n",
              "      <td>morino-59166</td>\n",
              "      <td>When I saw the magnificent Heath ledger a few ...</td>\n",
              "      <td>[When, I, saw, the, magnificent, Heath, ledger...</td>\n",
              "      <td>{'neg': 0.082, 'neu': 0.726, 'pos': 0.192, 'co...</td>\n",
              "      <td>0.9085</td>\n",
              "      <td>positive</td>\n",
              "    </tr>\n",
              "    <tr>\n",
              "      <th>1</th>\n",
              "      <td>asassandroo</td>\n",
              "      <td>I can say that i'm really grateful that movies...</td>\n",
              "      <td>[I, can, say, that, i, 'm, really, grateful, t...</td>\n",
              "      <td>{'neg': 0.0, 'neu': 0.727, 'pos': 0.273, 'comp...</td>\n",
              "      <td>0.9858</td>\n",
              "      <td>positive</td>\n",
              "    </tr>\n",
              "    <tr>\n",
              "      <th>2</th>\n",
              "      <td>samanehdds</td>\n",
              "      <td>I'm not a fan of Batman movies but went to see...</td>\n",
              "      <td>[I, 'm, not, a, fan, of, Batman, movies, but, ...</td>\n",
              "      <td>{'neg': 0.158, 'neu': 0.559, 'pos': 0.284, 'co...</td>\n",
              "      <td>0.9760</td>\n",
              "      <td>positive</td>\n",
              "    </tr>\n",
              "    <tr>\n",
              "      <th>3</th>\n",
              "      <td>guillevica</td>\n",
              "      <td>What a master piece, it so so wondeful, all in...</td>\n",
              "      <td>[What, a, master, piece, ,, it, so, so, wondef...</td>\n",
              "      <td>{'neg': 0.0, 'neu': 0.689, 'pos': 0.311, 'comp...</td>\n",
              "      <td>0.9467</td>\n",
              "      <td>positive</td>\n",
              "    </tr>\n",
              "    <tr>\n",
              "      <th>4</th>\n",
              "      <td>ahurworth</td>\n",
              "      <td>Has to be the best movie I've seen in years. I...</td>\n",
              "      <td>[Has, to, be, the, best, movie, I, 've, seen, ...</td>\n",
              "      <td>{'neg': 0.067, 'neu': 0.733, 'pos': 0.199, 'co...</td>\n",
              "      <td>0.8845</td>\n",
              "      <td>positive</td>\n",
              "    </tr>\n",
              "  </tbody>\n",
              "</table>\n",
              "</div>"
            ],
            "text/plain": [
              "     User Names  ... sentiments\n",
              "0  morino-59166  ...   positive\n",
              "1   asassandroo  ...   positive\n",
              "2    samanehdds  ...   positive\n",
              "3    guillevica  ...   positive\n",
              "4     ahurworth  ...   positive\n",
              "\n",
              "[5 rows x 6 columns]"
            ]
          },
          "metadata": {
            "tags": []
          },
          "execution_count": 52
        }
      ]
    },
    {
      "cell_type": "code",
      "metadata": {
        "id": "lVRh1iX3bzEu"
      },
      "source": [
        "from sklearn import feature_extraction, model_selection, svm, linear_model"
      ],
      "execution_count": 68,
      "outputs": []
    },
    {
      "cell_type": "code",
      "metadata": {
        "id": "LveQRYcyb58j"
      },
      "source": [
        "final_df1 = sentiment_data[[\"Reviews\"]].reset_index()\n",
        "final_df1[\"Reviews\"] = final_df1[\"Reviews\"].fillna(\"  \")"
      ],
      "execution_count": 84,
      "outputs": []
    },
    {
      "cell_type": "code",
      "metadata": {
        "id": "chBbvNyfY0zT"
      },
      "source": [
        "train_data, test_data = model_selection.train_test_split(required_df, test_size = 0.5)"
      ],
      "execution_count": 90,
      "outputs": []
    },
    {
      "cell_type": "code",
      "metadata": {
        "id": "ccKDkNW3Y_by"
      },
      "source": [
        "import sklearn\n",
        "from sklearn.pipeline import Pipeline as pipe\n",
        "\n",
        "pipeline = pipe([('countvector', feature_extraction.text.CountVectorizer()),('tf-idf', feature_extraction.text.TfidfTransformer()),('classifier', linear_model.SGDClassifier())])"
      ],
      "execution_count": 91,
      "outputs": []
    },
    {
      "cell_type": "code",
      "metadata": {
        "colab": {
          "base_uri": "https://localhost:8080/"
        },
        "id": "s02EHg_7a3ja",
        "outputId": "179ef678-b64c-40eb-b8a0-76b16b08c148"
      },
      "source": [
        "vector = pipeline.fit(train_data['Reviews'].values.astype('U'), train_data['sentiments'].values.astype('U'))\n",
        "test_data['predicted Reviews'] = vector.predict(test_data['Reviews'].values.astype('U'))"
      ],
      "execution_count": 102,
      "outputs": [
        {
          "output_type": "stream",
          "text": [
            "/usr/local/lib/python3.7/dist-packages/ipykernel_launcher.py:2: SettingWithCopyWarning: \n",
            "A value is trying to be set on a copy of a slice from a DataFrame.\n",
            "Try using .loc[row_indexer,col_indexer] = value instead\n",
            "\n",
            "See the caveats in the documentation: https://pandas.pydata.org/pandas-docs/stable/user_guide/indexing.html#returning-a-view-versus-a-copy\n",
            "  \n"
          ],
          "name": "stderr"
        }
      ]
    },
    {
      "cell_type": "code",
      "metadata": {
        "colab": {
          "base_uri": "https://localhost:8080/",
          "height": 246
        },
        "id": "K5Ma4ZlpgF7H",
        "outputId": "b3bf6ad4-06cf-41cd-f79c-4babed75d5ec"
      },
      "source": [
        "test_data.head(5)"
      ],
      "execution_count": 103,
      "outputs": [
        {
          "output_type": "execute_result",
          "data": {
            "text/html": [
              "<div>\n",
              "<style scoped>\n",
              "    .dataframe tbody tr th:only-of-type {\n",
              "        vertical-align: middle;\n",
              "    }\n",
              "\n",
              "    .dataframe tbody tr th {\n",
              "        vertical-align: top;\n",
              "    }\n",
              "\n",
              "    .dataframe thead th {\n",
              "        text-align: right;\n",
              "    }\n",
              "</style>\n",
              "<table border=\"1\" class=\"dataframe\">\n",
              "  <thead>\n",
              "    <tr style=\"text-align: right;\">\n",
              "      <th></th>\n",
              "      <th>User Names</th>\n",
              "      <th>Reviews</th>\n",
              "      <th>tokens</th>\n",
              "      <th>polarity_dict</th>\n",
              "      <th>polarity</th>\n",
              "      <th>sentiments</th>\n",
              "      <th>predicted Reviews</th>\n",
              "    </tr>\n",
              "  </thead>\n",
              "  <tbody>\n",
              "    <tr>\n",
              "      <th>70</th>\n",
              "      <td>tangli-47554</td>\n",
              "      <td>Best movie I have ever seen!! I can't get my e...</td>\n",
              "      <td>[Best, movie, I, have, ever, seen, !, !, I, ca...</td>\n",
              "      <td>{'neg': 0.0, 'neu': 0.811, 'pos': 0.189, 'comp...</td>\n",
              "      <td>0.7594</td>\n",
              "      <td>positive</td>\n",
              "      <td>positive</td>\n",
              "    </tr>\n",
              "    <tr>\n",
              "      <th>59</th>\n",
              "      <td>carriejenkinson</td>\n",
              "      <td>Joaquin Phoenix Is simply outstanding! One of ...</td>\n",
              "      <td>[Joaquin, Phoenix, Is, simply, outstanding, !,...</td>\n",
              "      <td>{'neg': 0.0, 'neu': 0.601, 'pos': 0.399, 'comp...</td>\n",
              "      <td>0.9357</td>\n",
              "      <td>positive</td>\n",
              "      <td>positive</td>\n",
              "    </tr>\n",
              "    <tr>\n",
              "      <th>75</th>\n",
              "      <td>sandeepmourya-89733</td>\n",
              "      <td>A spectacular display of direction, acting, ci...</td>\n",
              "      <td>[A, spectacular, display, of, direction, ,, ac...</td>\n",
              "      <td>{'neg': 0.207, 'neu': 0.793, 'pos': 0.0, 'comp...</td>\n",
              "      <td>-0.5267</td>\n",
              "      <td>negative</td>\n",
              "      <td>positive</td>\n",
              "    </tr>\n",
              "    <tr>\n",
              "      <th>10</th>\n",
              "      <td>jeffbrewer-90703</td>\n",
              "      <td>This truly was a perfect film. Joaquin Phoenix...</td>\n",
              "      <td>[This, truly, was, a, perfect, film, ., Joaqui...</td>\n",
              "      <td>{'neg': 0.089, 'neu': 0.654, 'pos': 0.257, 'co...</td>\n",
              "      <td>0.8892</td>\n",
              "      <td>positive</td>\n",
              "      <td>positive</td>\n",
              "    </tr>\n",
              "    <tr>\n",
              "      <th>5</th>\n",
              "      <td>aldaihani-92034</td>\n",
              "      <td>Nice movie, such a great performance from Joaq...</td>\n",
              "      <td>[Nice, movie, ,, such, a, great, performance, ...</td>\n",
              "      <td>{'neg': 0.121, 'neu': 0.49, 'pos': 0.389, 'com...</td>\n",
              "      <td>0.9081</td>\n",
              "      <td>positive</td>\n",
              "      <td>positive</td>\n",
              "    </tr>\n",
              "  </tbody>\n",
              "</table>\n",
              "</div>"
            ],
            "text/plain": [
              "             User Names  ... predicted Reviews\n",
              "70         tangli-47554  ...          positive\n",
              "59      carriejenkinson  ...          positive\n",
              "75  sandeepmourya-89733  ...          positive\n",
              "10     jeffbrewer-90703  ...          positive\n",
              "5       aldaihani-92034  ...          positive\n",
              "\n",
              "[5 rows x 7 columns]"
            ]
          },
          "metadata": {
            "tags": []
          },
          "execution_count": 103
        }
      ]
    },
    {
      "cell_type": "code",
      "metadata": {
        "id": "-hxHO4OGgMkQ"
      },
      "source": [
        "from sklearn.metrics import accuracy_score"
      ],
      "execution_count": 104,
      "outputs": []
    },
    {
      "cell_type": "code",
      "metadata": {
        "colab": {
          "base_uri": "https://localhost:8080/"
        },
        "id": "YQPBkk2tgQ4t",
        "outputId": "649fa850-ac78-42ef-a32c-9e74816c6711"
      },
      "source": [
        "accuracy_score(required_df[\"sentiments\"],required_df[\"sentiments\"])"
      ],
      "execution_count": 108,
      "outputs": [
        {
          "output_type": "execute_result",
          "data": {
            "text/plain": [
              "1.0"
            ]
          },
          "metadata": {
            "tags": []
          },
          "execution_count": 108
        }
      ]
    },
    {
      "cell_type": "code",
      "metadata": {
        "colab": {
          "base_uri": "https://localhost:8080/"
        },
        "id": "GMOoy17qhWdi",
        "outputId": "e3fa266a-ddcb-419b-fda6-90dbfbbea034"
      },
      "source": [
        "accuracy_score(test_data[\"sentiments\"].values.tolist(),test_data[\"predicted Reviews\"].values.tolist())"
      ],
      "execution_count": 116,
      "outputs": [
        {
          "output_type": "execute_result",
          "data": {
            "text/plain": [
              "0.92"
            ]
          },
          "metadata": {
            "tags": []
          },
          "execution_count": 116
        }
      ]
    }
  ]
}