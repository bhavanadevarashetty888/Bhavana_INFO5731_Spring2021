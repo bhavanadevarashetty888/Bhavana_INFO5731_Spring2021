{
  "nbformat": 4,
  "nbformat_minor": 0,
  "metadata": {
    "kernelspec": {
      "display_name": "Python 3",
      "language": "python",
      "name": "python3"
    },
    "language_info": {
      "codemirror_mode": {
        "name": "ipython",
        "version": 3
      },
      "file_extension": ".py",
      "mimetype": "text/x-python",
      "name": "python",
      "nbconvert_exporter": "python",
      "pygments_lexer": "ipython3",
      "version": "3.8.5"
    },
    "colab": {
      "name": "In_class_exercise_09.ipynb",
      "provenance": [],
      "include_colab_link": true
    }
  },
  "cells": [
    {
      "cell_type": "markdown",
      "metadata": {
        "id": "view-in-github",
        "colab_type": "text"
      },
      "source": [
        "<a href=\"https://colab.research.google.com/github/bhavanadevarashetty888/Bhavana_INFO5731_Spring2021/blob/main/In_class_exercise_09.ipynb\" target=\"_parent\"><img src=\"https://colab.research.google.com/assets/colab-badge.svg\" alt=\"Open In Colab\"/></a>"
      ]
    },
    {
      "cell_type": "markdown",
      "metadata": {
        "id": "5HGRLkLRcPK2"
      },
      "source": [
        "# **The ninth in-class-exercise (20 points in total, 4/16/2021)**"
      ]
    },
    {
      "cell_type": "markdown",
      "metadata": {
        "id": "wegkDKRDcPK5"
      },
      "source": [
        "The purpose of the exercise is to practice different machine learning algorithms for text classification as well as the performance evaluation. In addition, you are requried to conduct *10 fold cross validation (https://scikit-learn.org/stable/modules/cross_validation.html)* in the training. \n",
        "\n",
        "The dataset can be download from here: https://github.com/unt-iialab/info5731_spring2021/blob/main/class_exercises/exercise09_datacollection.zip. The dataset contains two files train data and test data for sentiment analysis in IMDB review, it has two categories: 1 represents positive and 0 represents negative. You need to split the training data into training and validate data (80% for training and 20% for validation, https://towardsdatascience.com/train-test-split-and-cross-validation-in-python-80b61beca4b6) and perform 10 fold cross validation while training the classifier. The final trained model was final evaluated on the test data. \n",
        "\n",
        "Algorithms:\n",
        "\n",
        "(1) MultinominalNB\n",
        "\n",
        "(2) SVM \n",
        "\n",
        "(3) KNN \n",
        "\n",
        "(4) Decision tree\n",
        "\n",
        "(5) Random Forest\n",
        "\n",
        "(6) XGBoost\n",
        "\n",
        "Evaluation measurement:\n",
        "\n",
        "(1) Accuracy\n",
        "\n",
        "(2) Recall\n",
        "\n",
        "(3) Precison \n",
        "\n",
        "(4) F-1 score"
      ]
    },
    {
      "cell_type": "code",
      "metadata": {
        "colab": {
          "base_uri": "https://localhost:8080/",
          "height": 195
        },
        "id": "6DP6gkXycPK7",
        "outputId": "7cb9d108-225b-4113-8000-e9098e84845c"
      },
      "source": [
        "# Write your code here\n",
        "import numpy as np\n",
        "import pandas as pd\n",
        "import sklearn as sk\n",
        "from sklearn import datasets\n",
        "from sklearn.model_selection import train_test_split,cross_val_score,KFold\n",
        "from sklearn.neighbors import KNeighborsClassifier\n",
        "from sklearn.metrics import accuracy_score\n",
        "from sklearn.metrics import classification_report\n",
        "from sklearn.model_selection import KFold\n",
        "from sklearn.model_selection import cross_val_score\n",
        "\n",
        "train_data = open(\"/content/stsa-train.txt\",\"r\")\n",
        "\n",
        "def saperate(ip,ids):\n",
        "  if(ids == 0):\n",
        "    return ip[0:1]\n",
        "  elif(ids == 1):\n",
        "    return ip[2:len(ip)].replace(\"\\n\",\"\")\n",
        "  pass\n",
        "  \n",
        "list1 = train_data.readlines()\n",
        "\n",
        "train_data_polarities = [int(saperate(i,0)) for i in list1]\n",
        "train_data = [saperate(i,1) for i in list1]\n",
        "trainDF = pd.DataFrame(train_data,columns=[\"sentences\"])\n",
        "trainDF[\"polarities\"] = pd.DataFrame(train_data_polarities)\n",
        "trainDF.head()"
      ],
      "execution_count": 10,
      "outputs": [
        {
          "output_type": "execute_result",
          "data": {
            "text/html": [
              "<div>\n",
              "<style scoped>\n",
              "    .dataframe tbody tr th:only-of-type {\n",
              "        vertical-align: middle;\n",
              "    }\n",
              "\n",
              "    .dataframe tbody tr th {\n",
              "        vertical-align: top;\n",
              "    }\n",
              "\n",
              "    .dataframe thead th {\n",
              "        text-align: right;\n",
              "    }\n",
              "</style>\n",
              "<table border=\"1\" class=\"dataframe\">\n",
              "  <thead>\n",
              "    <tr style=\"text-align: right;\">\n",
              "      <th></th>\n",
              "      <th>sentences</th>\n",
              "      <th>polarities</th>\n",
              "    </tr>\n",
              "  </thead>\n",
              "  <tbody>\n",
              "    <tr>\n",
              "      <th>0</th>\n",
              "      <td>a stirring , funny and finally transporting re...</td>\n",
              "      <td>1</td>\n",
              "    </tr>\n",
              "    <tr>\n",
              "      <th>1</th>\n",
              "      <td>apparently reassembled from the cutting-room f...</td>\n",
              "      <td>0</td>\n",
              "    </tr>\n",
              "    <tr>\n",
              "      <th>2</th>\n",
              "      <td>they presume their audience wo n't sit still f...</td>\n",
              "      <td>0</td>\n",
              "    </tr>\n",
              "    <tr>\n",
              "      <th>3</th>\n",
              "      <td>this is a visually stunning rumination on love...</td>\n",
              "      <td>1</td>\n",
              "    </tr>\n",
              "    <tr>\n",
              "      <th>4</th>\n",
              "      <td>jonathan parker 's bartleby should have been t...</td>\n",
              "      <td>1</td>\n",
              "    </tr>\n",
              "  </tbody>\n",
              "</table>\n",
              "</div>"
            ],
            "text/plain": [
              "                                           sentences  polarities\n",
              "0  a stirring , funny and finally transporting re...           1\n",
              "1  apparently reassembled from the cutting-room f...           0\n",
              "2  they presume their audience wo n't sit still f...           0\n",
              "3  this is a visually stunning rumination on love...           1\n",
              "4  jonathan parker 's bartleby should have been t...           1"
            ]
          },
          "metadata": {
            "tags": []
          },
          "execution_count": 10
        }
      ]
    },
    {
      "cell_type": "code",
      "metadata": {
        "colab": {
          "base_uri": "https://localhost:8080/",
          "height": 195
        },
        "id": "eeI-fr4TgCoy",
        "outputId": "7a010469-6147-44f2-d1e1-093c81fc5070"
      },
      "source": [
        "test_data = open(\"/content/stsa-test.txt\",\"r\")\n",
        "list2 = test_data.readlines()\n",
        "test_data_polarities = [int(saperate(i,0)) for i in list2]\n",
        "test_data = [saperate(i,1) for i in list2]\n",
        "testDF = pd.DataFrame(test_data,columns=[\"sentences\"])\n",
        "testDF[\"polarities\"] = pd.DataFrame(test_data_polarities)\n",
        "\n",
        "testDF.head(5)"
      ],
      "execution_count": 13,
      "outputs": [
        {
          "output_type": "execute_result",
          "data": {
            "text/html": [
              "<div>\n",
              "<style scoped>\n",
              "    .dataframe tbody tr th:only-of-type {\n",
              "        vertical-align: middle;\n",
              "    }\n",
              "\n",
              "    .dataframe tbody tr th {\n",
              "        vertical-align: top;\n",
              "    }\n",
              "\n",
              "    .dataframe thead th {\n",
              "        text-align: right;\n",
              "    }\n",
              "</style>\n",
              "<table border=\"1\" class=\"dataframe\">\n",
              "  <thead>\n",
              "    <tr style=\"text-align: right;\">\n",
              "      <th></th>\n",
              "      <th>sentences</th>\n",
              "      <th>polarities</th>\n",
              "    </tr>\n",
              "  </thead>\n",
              "  <tbody>\n",
              "    <tr>\n",
              "      <th>0</th>\n",
              "      <td>no movement , no yuks , not much of anything .</td>\n",
              "      <td>0</td>\n",
              "    </tr>\n",
              "    <tr>\n",
              "      <th>1</th>\n",
              "      <td>a gob of drivel so sickly sweet , even the eag...</td>\n",
              "      <td>0</td>\n",
              "    </tr>\n",
              "    <tr>\n",
              "      <th>2</th>\n",
              "      <td>gangs of new york is an unapologetic mess , wh...</td>\n",
              "      <td>0</td>\n",
              "    </tr>\n",
              "    <tr>\n",
              "      <th>3</th>\n",
              "      <td>we never really feel involved with the story ,...</td>\n",
              "      <td>0</td>\n",
              "    </tr>\n",
              "    <tr>\n",
              "      <th>4</th>\n",
              "      <td>this is one of polanski 's best films .</td>\n",
              "      <td>1</td>\n",
              "    </tr>\n",
              "  </tbody>\n",
              "</table>\n",
              "</div>"
            ],
            "text/plain": [
              "                                           sentences  polarities\n",
              "0     no movement , no yuks , not much of anything .           0\n",
              "1  a gob of drivel so sickly sweet , even the eag...           0\n",
              "2  gangs of new york is an unapologetic mess , wh...           0\n",
              "3  we never really feel involved with the story ,...           0\n",
              "4            this is one of polanski 's best films .           1"
            ]
          },
          "metadata": {
            "tags": []
          },
          "execution_count": 13
        }
      ]
    },
    {
      "cell_type": "code",
      "metadata": {
        "colab": {
          "base_uri": "https://localhost:8080/"
        },
        "id": "8khWBn4PgTLQ",
        "outputId": "df36b061-a83f-42b5-a473-a8674ae5b9c3"
      },
      "source": [
        "trainDF.shape"
      ],
      "execution_count": 14,
      "outputs": [
        {
          "output_type": "execute_result",
          "data": {
            "text/plain": [
              "(6920, 2)"
            ]
          },
          "metadata": {
            "tags": []
          },
          "execution_count": 14
        }
      ]
    },
    {
      "cell_type": "code",
      "metadata": {
        "colab": {
          "base_uri": "https://localhost:8080/"
        },
        "id": "Agvxr4lIgWGE",
        "outputId": "454eaabc-ed8a-46b8-ff10-545ea3ef2d0a"
      },
      "source": [
        "testDF.shape"
      ],
      "execution_count": 15,
      "outputs": [
        {
          "output_type": "execute_result",
          "data": {
            "text/plain": [
              "(1821, 2)"
            ]
          },
          "metadata": {
            "tags": []
          },
          "execution_count": 15
        }
      ]
    },
    {
      "cell_type": "code",
      "metadata": {
        "colab": {
          "base_uri": "https://localhost:8080/"
        },
        "id": "oFK2GVDpgZ0c",
        "outputId": "2b8cb30f-b592-4043-f2f0-0a77d8d81598"
      },
      "source": [
        "trainDF[\"polarities\"].value_counts()"
      ],
      "execution_count": 16,
      "outputs": [
        {
          "output_type": "execute_result",
          "data": {
            "text/plain": [
              "1    3610\n",
              "0    3310\n",
              "Name: polarities, dtype: int64"
            ]
          },
          "metadata": {
            "tags": []
          },
          "execution_count": 16
        }
      ]
    },
    {
      "cell_type": "code",
      "metadata": {
        "colab": {
          "base_uri": "https://localhost:8080/"
        },
        "id": "KX_mvVeOgd3R",
        "outputId": "05c10ccd-91ef-45b6-d5e8-e6f33df0df38"
      },
      "source": [
        "testDF[\"polarities\"].value_counts()"
      ],
      "execution_count": 17,
      "outputs": [
        {
          "output_type": "execute_result",
          "data": {
            "text/plain": [
              "0    912\n",
              "1    909\n",
              "Name: polarities, dtype: int64"
            ]
          },
          "metadata": {
            "tags": []
          },
          "execution_count": 17
        }
      ]
    },
    {
      "cell_type": "code",
      "metadata": {
        "colab": {
          "base_uri": "https://localhost:8080/"
        },
        "id": "-ikYdoqdgjSP",
        "outputId": "9442f4ce-8f61-4067-e877-289f45b98cd8"
      },
      "source": [
        "import string\n",
        "import nltk\n",
        "from nltk.corpus import stopwords\n",
        "nltk.download('stopwords')\n",
        "from nltk.stem import WordNetLemmatizer\n",
        "wordnet= WordNetLemmatizer()\n",
        "nltk.download('wordnet')\n",
        "list_of_words = set(stopwords.words('english')) \n",
        "import re\n",
        "\n",
        "\n",
        "def clean(value):\n",
        "  value = value.lower()\n",
        "  tokens = value.split(\" \")\n",
        "  value = \" \".join(x for x in tokens if x not in string.punctuation)\n",
        "  value = \"\".join(i for i in value if i.isalnum() or i == \" \")\n",
        "  tokens = re.split(\"\\W+\",value)\n",
        "  value = [wordnet.lemmatize(x) for x in tokens if x not in list_of_words]\n",
        "  return value"
      ],
      "execution_count": 19,
      "outputs": [
        {
          "output_type": "stream",
          "text": [
            "[nltk_data] Downloading package stopwords to /root/nltk_data...\n",
            "[nltk_data]   Package stopwords is already up-to-date!\n",
            "[nltk_data] Downloading package wordnet to /root/nltk_data...\n",
            "[nltk_data]   Package wordnet is already up-to-date!\n"
          ],
          "name": "stdout"
        }
      ]
    },
    {
      "cell_type": "code",
      "metadata": {
        "colab": {
          "base_uri": "https://localhost:8080/",
          "height": 195
        },
        "id": "8VidPuK_gy9t",
        "outputId": "eb86a703-f65c-41fd-e111-1b933293f9c6"
      },
      "source": [
        "trainDF.head(5)"
      ],
      "execution_count": 20,
      "outputs": [
        {
          "output_type": "execute_result",
          "data": {
            "text/html": [
              "<div>\n",
              "<style scoped>\n",
              "    .dataframe tbody tr th:only-of-type {\n",
              "        vertical-align: middle;\n",
              "    }\n",
              "\n",
              "    .dataframe tbody tr th {\n",
              "        vertical-align: top;\n",
              "    }\n",
              "\n",
              "    .dataframe thead th {\n",
              "        text-align: right;\n",
              "    }\n",
              "</style>\n",
              "<table border=\"1\" class=\"dataframe\">\n",
              "  <thead>\n",
              "    <tr style=\"text-align: right;\">\n",
              "      <th></th>\n",
              "      <th>sentences</th>\n",
              "      <th>polarities</th>\n",
              "    </tr>\n",
              "  </thead>\n",
              "  <tbody>\n",
              "    <tr>\n",
              "      <th>0</th>\n",
              "      <td>a stirring , funny and finally transporting re...</td>\n",
              "      <td>1</td>\n",
              "    </tr>\n",
              "    <tr>\n",
              "      <th>1</th>\n",
              "      <td>apparently reassembled from the cutting-room f...</td>\n",
              "      <td>0</td>\n",
              "    </tr>\n",
              "    <tr>\n",
              "      <th>2</th>\n",
              "      <td>they presume their audience wo n't sit still f...</td>\n",
              "      <td>0</td>\n",
              "    </tr>\n",
              "    <tr>\n",
              "      <th>3</th>\n",
              "      <td>this is a visually stunning rumination on love...</td>\n",
              "      <td>1</td>\n",
              "    </tr>\n",
              "    <tr>\n",
              "      <th>4</th>\n",
              "      <td>jonathan parker 's bartleby should have been t...</td>\n",
              "      <td>1</td>\n",
              "    </tr>\n",
              "  </tbody>\n",
              "</table>\n",
              "</div>"
            ],
            "text/plain": [
              "                                           sentences  polarities\n",
              "0  a stirring , funny and finally transporting re...           1\n",
              "1  apparently reassembled from the cutting-room f...           0\n",
              "2  they presume their audience wo n't sit still f...           0\n",
              "3  this is a visually stunning rumination on love...           1\n",
              "4  jonathan parker 's bartleby should have been t...           1"
            ]
          },
          "metadata": {
            "tags": []
          },
          "execution_count": 20
        }
      ]
    },
    {
      "cell_type": "code",
      "metadata": {
        "colab": {
          "base_uri": "https://localhost:8080/",
          "height": 195
        },
        "id": "iggr3Fc_g5DT",
        "outputId": "30727d6b-13f2-4ad1-9e81-f7e0a4e74920"
      },
      "source": [
        "\n",
        "testDF.head(5)"
      ],
      "execution_count": 21,
      "outputs": [
        {
          "output_type": "execute_result",
          "data": {
            "text/html": [
              "<div>\n",
              "<style scoped>\n",
              "    .dataframe tbody tr th:only-of-type {\n",
              "        vertical-align: middle;\n",
              "    }\n",
              "\n",
              "    .dataframe tbody tr th {\n",
              "        vertical-align: top;\n",
              "    }\n",
              "\n",
              "    .dataframe thead th {\n",
              "        text-align: right;\n",
              "    }\n",
              "</style>\n",
              "<table border=\"1\" class=\"dataframe\">\n",
              "  <thead>\n",
              "    <tr style=\"text-align: right;\">\n",
              "      <th></th>\n",
              "      <th>sentences</th>\n",
              "      <th>polarities</th>\n",
              "    </tr>\n",
              "  </thead>\n",
              "  <tbody>\n",
              "    <tr>\n",
              "      <th>0</th>\n",
              "      <td>no movement , no yuks , not much of anything .</td>\n",
              "      <td>0</td>\n",
              "    </tr>\n",
              "    <tr>\n",
              "      <th>1</th>\n",
              "      <td>a gob of drivel so sickly sweet , even the eag...</td>\n",
              "      <td>0</td>\n",
              "    </tr>\n",
              "    <tr>\n",
              "      <th>2</th>\n",
              "      <td>gangs of new york is an unapologetic mess , wh...</td>\n",
              "      <td>0</td>\n",
              "    </tr>\n",
              "    <tr>\n",
              "      <th>3</th>\n",
              "      <td>we never really feel involved with the story ,...</td>\n",
              "      <td>0</td>\n",
              "    </tr>\n",
              "    <tr>\n",
              "      <th>4</th>\n",
              "      <td>this is one of polanski 's best films .</td>\n",
              "      <td>1</td>\n",
              "    </tr>\n",
              "  </tbody>\n",
              "</table>\n",
              "</div>"
            ],
            "text/plain": [
              "                                           sentences  polarities\n",
              "0     no movement , no yuks , not much of anything .           0\n",
              "1  a gob of drivel so sickly sweet , even the eag...           0\n",
              "2  gangs of new york is an unapologetic mess , wh...           0\n",
              "3  we never really feel involved with the story ,...           0\n",
              "4            this is one of polanski 's best films .           1"
            ]
          },
          "metadata": {
            "tags": []
          },
          "execution_count": 21
        }
      ]
    },
    {
      "cell_type": "code",
      "metadata": {
        "colab": {
          "base_uri": "https://localhost:8080/"
        },
        "id": "1P7yScQMhLPc",
        "outputId": "361dfc65-f244-4e23-bd73-f39eba26ffb2"
      },
      "source": [
        "from sklearn.feature_extraction.text import TfidfVectorizer\n",
        "vectorizer = TfidfVectorizer(analyzer=clean_dataset)\n",
        "tf_idf = vectorizer.fit_transform(trainDF[\"sentences\"])\n",
        "list_of_column_names = vectorizer.get_feature_names()\n",
        "tf_idf_df = pd.DataFrame(tf_idf.toarray())\n",
        "tf_idf_df.columns = list_of_column_names\n",
        "tf_idf_df.shape"
      ],
      "execution_count": 25,
      "outputs": [
        {
          "output_type": "execute_result",
          "data": {
            "text/plain": [
              "(6920, 13439)"
            ]
          },
          "metadata": {
            "tags": []
          },
          "execution_count": 25
        }
      ]
    },
    {
      "cell_type": "code",
      "metadata": {
        "id": "UoQ8mt1vhZ9N"
      },
      "source": [
        "vectorizer1 = TfidfVectorizer(analyzer=clean_dataset,vocabulary=vectorizer.vocabulary_)\n",
        "vectorizer1.fit(testDF[\"sentences\"])\n",
        "tf_idf_test = vectorizer1.transform(testDF[\"sentences\"])\n",
        "op1 = testDF[\"sentences\"]\n",
        "training_tf_idf_data = vectorizer.transform(trainDF[\"sentences\"])\n",
        "\n",
        "x_train, x_test, y_train, y_test = train_test_split(tf_idf_df, trainDF['polarities'].values,test_size=0.2)"
      ],
      "execution_count": 29,
      "outputs": []
    },
    {
      "cell_type": "markdown",
      "metadata": {
        "id": "h4HO502ciiL_"
      },
      "source": [
        "**Multinomial DB Algorithm**"
      ]
    },
    {
      "cell_type": "code",
      "metadata": {
        "colab": {
          "base_uri": "https://localhost:8080/"
        },
        "id": "-JrjuJKPipFt",
        "outputId": "20792135-b58c-4e2b-fd3f-46cc53df23ce"
      },
      "source": [
        "from sklearn.naive_bayes import MultinomialNB\n",
        "multinomialNB = MultinomialNB()\n",
        "multinomialNB_model = multinomialNB.fit(x_train,y_train)\n",
        "y_op_multinomialNB = multinomialNB_model.predict(x_test)\n",
        "\n",
        "y_op_multinomialNB"
      ],
      "execution_count": 33,
      "outputs": [
        {
          "output_type": "execute_result",
          "data": {
            "text/plain": [
              "array([1, 1, 0, ..., 1, 1, 1])"
            ]
          },
          "metadata": {
            "tags": []
          },
          "execution_count": 33
        }
      ]
    },
    {
      "cell_type": "code",
      "metadata": {
        "colab": {
          "base_uri": "https://localhost:8080/"
        },
        "id": "7C44kFSzkneL",
        "outputId": "7a3b30a5-82aa-4293-bdcb-779fa3550c23"
      },
      "source": [
        "\n",
        "from sklearn.metrics import accuracy_score,classification_report\n",
        "import sys\n",
        "import pprint\n",
        "def fetch_the_accuracy(predicted,actual):\n",
        "  print(\"\\033[1m\"+\"Accuracy Score = \",round(accuracy_score(predicted,actual),2)*100,\"%\"+\"\\033[0m\")\n",
        "  print(\"\\033[1m\"+\"The Classification report\"+\"\\033[0m\")\n",
        "  print(classification_report(actual,predicted))\n",
        "  # sys.modules[__name__].__dict__.clear()\n",
        "  pass\n",
        "fetch_the_accuracy(y_op_multinomialNB,y_test)"
      ],
      "execution_count": 36,
      "outputs": [
        {
          "output_type": "stream",
          "text": [
            "\u001b[1mAccuracy Score =  76.0 %\u001b[0m\n",
            "\u001b[1mThe Classification report\u001b[0m\n",
            "              precision    recall  f1-score   support\n",
            "\n",
            "           0       0.79      0.68      0.73       669\n",
            "           1       0.73      0.84      0.78       715\n",
            "\n",
            "    accuracy                           0.76      1384\n",
            "   macro avg       0.76      0.76      0.76      1384\n",
            "weighted avg       0.76      0.76      0.76      1384\n",
            "\n"
          ],
          "name": "stdout"
        }
      ]
    },
    {
      "cell_type": "code",
      "metadata": {
        "id": "qIbBPkJqlkYM"
      },
      "source": [
        "def analyse_the_accuracy(n_splits):\n",
        "  # evaluate the algorythm\n",
        "  # fix the random seed\n",
        "  # must use the same seed value so that the same subsets can be obtained\n",
        "  # for each time the process is repeated\n",
        "  seed = 7\n",
        "  # split the whole dataset into folds \n",
        "  kfold = KFold(n_splits, random_state=seed,shuffle=True)\n",
        "  # for logistic regression, we can use the accuracy level to evaluate the model / algorithm\n",
        "  scoring = 'accuracy'\n",
        "  return kfold\n",
        "  pass"
      ],
      "execution_count": 40,
      "outputs": []
    },
    {
      "cell_type": "code",
      "metadata": {
        "colab": {
          "base_uri": "https://localhost:8080/"
        },
        "id": "32RT12GWlacG",
        "outputId": "d0e4d951-1009-40cc-8af5-e9f673279c14"
      },
      "source": [
        "from sklearn.model_selection import cross_val_score\n",
        "def cross_val_score_computation(modelObject, x_test,y_test):\n",
        "  kfold = analyse_the_accuracy(10)\n",
        "  print(\"\\033[1m\"+\"Cross Validation Score\",round(cross_val_score(modelObject,x_test,y_test,cv=kfold).mean()*100,2),\"%\",\"\\033[0m\")\n",
        "  pass\n",
        "cross_val_score_computation(multinomialNB_model,x_test,y_test)"
      ],
      "execution_count": 41,
      "outputs": [
        {
          "output_type": "stream",
          "text": [
            "\u001b[1mCross Validation Score 70.6 % \u001b[0m\n"
          ],
          "name": "stdout"
        }
      ]
    },
    {
      "cell_type": "markdown",
      "metadata": {
        "id": "gvxz9k7klupV"
      },
      "source": [
        "**SVM**"
      ]
    },
    {
      "cell_type": "code",
      "metadata": {
        "colab": {
          "base_uri": "https://localhost:8080/"
        },
        "id": "UizXXgMVls8a",
        "outputId": "73c07f77-ced7-4063-b195-4e97f1b6d27a"
      },
      "source": [
        "from sklearn.svm import LinearSVC\n",
        "linearSVC = LinearSVC()\n",
        "linearSVC_model = linearSVC.fit(x_train,y_train)\n",
        "y_op_linearSVC = linearSVC_model.predict(x_test)\n",
        "y_op_test_linearSVC = linearSVC_model.predict(tf_idf_test)\n",
        "y_op_test_linearSVC"
      ],
      "execution_count": 44,
      "outputs": [
        {
          "output_type": "execute_result",
          "data": {
            "text/plain": [
              "array([0, 0, 1, ..., 1, 0, 1])"
            ]
          },
          "metadata": {
            "tags": []
          },
          "execution_count": 44
        }
      ]
    },
    {
      "cell_type": "code",
      "metadata": {
        "colab": {
          "base_uri": "https://localhost:8080/"
        },
        "id": "IImH6CermFPt",
        "outputId": "71038fb0-68a1-4b61-d2c0-ac5d37f81288"
      },
      "source": [
        "fetch_the_accuracy(y_op_linearSVC,y_test)"
      ],
      "execution_count": 45,
      "outputs": [
        {
          "output_type": "stream",
          "text": [
            "\u001b[1mAccuracy Score =  76.0 %\u001b[0m\n",
            "\u001b[1mThe Classification report\u001b[0m\n",
            "              precision    recall  f1-score   support\n",
            "\n",
            "           0       0.76      0.74      0.75       669\n",
            "           1       0.76      0.78      0.77       715\n",
            "\n",
            "    accuracy                           0.76      1384\n",
            "   macro avg       0.76      0.76      0.76      1384\n",
            "weighted avg       0.76      0.76      0.76      1384\n",
            "\n"
          ],
          "name": "stdout"
        }
      ]
    },
    {
      "cell_type": "code",
      "metadata": {
        "colab": {
          "base_uri": "https://localhost:8080/"
        },
        "id": "HtqNRaA9mzXf",
        "outputId": "4ccadbaa-7433-4fc1-95e4-02be0566f41c"
      },
      "source": [
        "\n",
        "cross_val_score_computation(linearSVC_model,x_test,y_test)"
      ],
      "execution_count": 48,
      "outputs": [
        {
          "output_type": "stream",
          "text": [
            "\u001b[1mCross Validation Score 71.02 % \u001b[0m\n"
          ],
          "name": "stdout"
        }
      ]
    },
    {
      "cell_type": "code",
      "metadata": {
        "colab": {
          "base_uri": "https://localhost:8080/"
        },
        "id": "Qtqb7T3Wm23t",
        "outputId": "c6616cf4-7eb2-4530-f270-9eb6494e197d"
      },
      "source": [
        "fetch_the_accuracy(y_op_test_linearSVC,testDF[\"polarities\"].values)"
      ],
      "execution_count": 49,
      "outputs": [
        {
          "output_type": "stream",
          "text": [
            "\u001b[1mAccuracy Score =  79.0 %\u001b[0m\n",
            "\u001b[1mThe Classification report\u001b[0m\n",
            "              precision    recall  f1-score   support\n",
            "\n",
            "           0       0.81      0.77      0.79       912\n",
            "           1       0.78      0.82      0.80       909\n",
            "\n",
            "    accuracy                           0.79      1821\n",
            "   macro avg       0.79      0.79      0.79      1821\n",
            "weighted avg       0.79      0.79      0.79      1821\n",
            "\n"
          ],
          "name": "stdout"
        }
      ]
    },
    {
      "cell_type": "code",
      "metadata": {
        "colab": {
          "base_uri": "https://localhost:8080/"
        },
        "id": "I9AX95cvm6U5",
        "outputId": "292ccbf3-d93c-4ef0-dee2-42200a85c6b2"
      },
      "source": [
        "cross_val_score_computation(linearSVC_model,tf_idf_test,y_op_test_linearSVC)"
      ],
      "execution_count": 50,
      "outputs": [
        {
          "output_type": "stream",
          "text": [
            "\u001b[1mCross Validation Score 79.02 % \u001b[0m\n"
          ],
          "name": "stdout"
        }
      ]
    },
    {
      "cell_type": "markdown",
      "metadata": {
        "id": "rlsK7BgUm98m"
      },
      "source": [
        "**KNN Algorithm**"
      ]
    },
    {
      "cell_type": "code",
      "metadata": {
        "colab": {
          "base_uri": "https://localhost:8080/"
        },
        "id": "jue0MKwZm8Ve",
        "outputId": "c19c1556-a566-4089-d45e-753d70c0bebe"
      },
      "source": [
        "from sklearn.neighbors import KNeighborsClassifier\n",
        "kneighborsClassifier = KNeighborsClassifier(n_neighbors=10,algorithm='brute')\n",
        "kneighborsClassifier_model = kneighborsClassifier.fit(x_train,y_train)\n",
        "\n",
        "y_op_kneighborsClassifier = kneighborsClassifier_model.predict(x_test)\n",
        "y_op_test_kneighborsClassifier = kneighborsClassifier_model.predict(tf_idf_test)\n",
        "y_op_test_kneighborsClassifier"
      ],
      "execution_count": 55,
      "outputs": [
        {
          "output_type": "execute_result",
          "data": {
            "text/plain": [
              "array([0, 1, 0, ..., 0, 0, 0])"
            ]
          },
          "metadata": {
            "tags": []
          },
          "execution_count": 55
        }
      ]
    },
    {
      "cell_type": "code",
      "metadata": {
        "colab": {
          "base_uri": "https://localhost:8080/"
        },
        "id": "Qm2aqMOcng8S",
        "outputId": "4a5b736b-145b-41cb-88be-dbcda633cb60"
      },
      "source": [
        "fetch_the_accuracy(y_op_kneighborsClassifier,y_test)"
      ],
      "execution_count": 56,
      "outputs": [
        {
          "output_type": "stream",
          "text": [
            "\u001b[1mAccuracy Score =  68.0 %\u001b[0m\n",
            "\u001b[1mThe Classification report\u001b[0m\n",
            "              precision    recall  f1-score   support\n",
            "\n",
            "           0       0.62      0.89      0.73       669\n",
            "           1       0.83      0.49      0.61       715\n",
            "\n",
            "    accuracy                           0.68      1384\n",
            "   macro avg       0.72      0.69      0.67      1384\n",
            "weighted avg       0.73      0.68      0.67      1384\n",
            "\n"
          ],
          "name": "stdout"
        }
      ]
    },
    {
      "cell_type": "code",
      "metadata": {
        "colab": {
          "base_uri": "https://localhost:8080/"
        },
        "id": "R-d3Zz4pnlkD",
        "outputId": "b96aaba1-a1af-464c-8ce3-3f8300859346"
      },
      "source": [
        "cross_val_score_computation(kneighborsClassifier_model,x_test,y_test)"
      ],
      "execution_count": 57,
      "outputs": [
        {
          "output_type": "stream",
          "text": [
            "\u001b[1mCross Validation Score 65.53 % \u001b[0m\n"
          ],
          "name": "stdout"
        }
      ]
    },
    {
      "cell_type": "code",
      "metadata": {
        "colab": {
          "base_uri": "https://localhost:8080/"
        },
        "id": "7BsY3EofnpN6",
        "outputId": "31e4dd2d-2d4e-4ede-b0ea-7a0a6d7eab15"
      },
      "source": [
        "fetch_the_accuracy(y_op_test_kneighborsClassifier,testDF[\"polarities\"].values)"
      ],
      "execution_count": 58,
      "outputs": [
        {
          "output_type": "stream",
          "text": [
            "\u001b[1mAccuracy Score =  68.0 %\u001b[0m\n",
            "\u001b[1mThe Classification report\u001b[0m\n",
            "              precision    recall  f1-score   support\n",
            "\n",
            "           0       0.63      0.88      0.73       912\n",
            "           1       0.80      0.48      0.60       909\n",
            "\n",
            "    accuracy                           0.68      1821\n",
            "   macro avg       0.71      0.68      0.66      1821\n",
            "weighted avg       0.71      0.68      0.66      1821\n",
            "\n"
          ],
          "name": "stdout"
        }
      ]
    },
    {
      "cell_type": "code",
      "metadata": {
        "colab": {
          "base_uri": "https://localhost:8080/"
        },
        "id": "T8HeQ7pnnst9",
        "outputId": "c236c01a-38c7-4554-e14e-c71949dd1198"
      },
      "source": [
        "cross_val_score_computation(kneighborsClassifier_model,tf_idf_test,y_op_test_kneighborsClassifier)"
      ],
      "execution_count": 59,
      "outputs": [
        {
          "output_type": "stream",
          "text": [
            "\u001b[1mCross Validation Score 71.61 % \u001b[0m\n"
          ],
          "name": "stdout"
        }
      ]
    },
    {
      "cell_type": "markdown",
      "metadata": {
        "id": "qRJ2z49mn0A6"
      },
      "source": [
        "**Decision Tree Algorithm**"
      ]
    },
    {
      "cell_type": "code",
      "metadata": {
        "id": "eh9hrPi8oCXd"
      },
      "source": [
        "from sklearn.tree import DecisionTreeClassifier\n",
        "decisionTreeClassifier = DecisionTreeClassifier()\n",
        "decisionTreeClassifier_model = decisionTreeClassifier.fit(x_train,y_train)\n",
        "\n",
        "y_op_decisionTreeClassifier = decisionTreeClassifier_model.predict(x_test)\n"
      ],
      "execution_count": 63,
      "outputs": []
    },
    {
      "cell_type": "code",
      "metadata": {
        "colab": {
          "base_uri": "https://localhost:8080/"
        },
        "id": "7LU-IiPkouC7",
        "outputId": "e8dd719c-ff91-4757-de70-20fc9f532d16"
      },
      "source": [
        "y_op_test_decisionTreeClassifier = decisionTreeClassifier_model.predict(tf_idf_test)\n",
        "\n",
        "y_op_test_decisionTreeClassifier"
      ],
      "execution_count": 65,
      "outputs": [
        {
          "output_type": "execute_result",
          "data": {
            "text/plain": [
              "array([0, 0, 0, ..., 1, 1, 0])"
            ]
          },
          "metadata": {
            "tags": []
          },
          "execution_count": 65
        }
      ]
    },
    {
      "cell_type": "code",
      "metadata": {
        "colab": {
          "base_uri": "https://localhost:8080/"
        },
        "id": "XLHMgLW1oy1w",
        "outputId": "ba5633f1-053a-4071-9477-bba1a20ae2f9"
      },
      "source": [
        "fetch_the_accuracy(y_op_decisionTreeClassifier,y_test)"
      ],
      "execution_count": 66,
      "outputs": [
        {
          "output_type": "stream",
          "text": [
            "\u001b[1mAccuracy Score =  65.0 %\u001b[0m\n",
            "\u001b[1mThe Classification report\u001b[0m\n",
            "              precision    recall  f1-score   support\n",
            "\n",
            "           0       0.63      0.68      0.66       669\n",
            "           1       0.68      0.62      0.65       715\n",
            "\n",
            "    accuracy                           0.65      1384\n",
            "   macro avg       0.65      0.65      0.65      1384\n",
            "weighted avg       0.65      0.65      0.65      1384\n",
            "\n"
          ],
          "name": "stdout"
        }
      ]
    },
    {
      "cell_type": "code",
      "metadata": {
        "colab": {
          "base_uri": "https://localhost:8080/"
        },
        "id": "_64zCN3Fo2rs",
        "outputId": "fcede1a8-32ab-4199-a2ae-390520549f89"
      },
      "source": [
        "cross_val_score_computation(decisionTreeClassifier_model,x_test,y_test)"
      ],
      "execution_count": 67,
      "outputs": [
        {
          "output_type": "stream",
          "text": [
            "\u001b[1mCross Validation Score 56.21 % \u001b[0m\n"
          ],
          "name": "stdout"
        }
      ]
    },
    {
      "cell_type": "code",
      "metadata": {
        "colab": {
          "base_uri": "https://localhost:8080/"
        },
        "id": "54JRERs4pZZF",
        "outputId": "9376f54c-a370-4fe4-ae81-dc02d8ab2811"
      },
      "source": [
        "fetch_the_accuracy(y_op_test_decisionTreeClassifier,testDF[\"polarities\"].values)"
      ],
      "execution_count": 68,
      "outputs": [
        {
          "output_type": "stream",
          "text": [
            "\u001b[1mAccuracy Score =  65.0 %\u001b[0m\n",
            "\u001b[1mThe Classification report\u001b[0m\n",
            "              precision    recall  f1-score   support\n",
            "\n",
            "           0       0.65      0.68      0.66       912\n",
            "           1       0.66      0.62      0.64       909\n",
            "\n",
            "    accuracy                           0.65      1821\n",
            "   macro avg       0.65      0.65      0.65      1821\n",
            "weighted avg       0.65      0.65      0.65      1821\n",
            "\n"
          ],
          "name": "stdout"
        }
      ]
    },
    {
      "cell_type": "code",
      "metadata": {
        "colab": {
          "base_uri": "https://localhost:8080/"
        },
        "id": "E4UOoff5pciY",
        "outputId": "9c0771bb-c336-4bd3-b0f5-fb12c91faab4"
      },
      "source": [
        "cross_val_score_computation(decisionTreeClassifier_model,tf_idf_test,y_op_test_decisionTreeClassifier)"
      ],
      "execution_count": 69,
      "outputs": [
        {
          "output_type": "stream",
          "text": [
            "\u001b[1mCross Validation Score 69.96 % \u001b[0m\n"
          ],
          "name": "stdout"
        }
      ]
    },
    {
      "cell_type": "markdown",
      "metadata": {
        "id": "hfxpKZwfpkCX"
      },
      "source": [
        "**Random Forest Algorithm**"
      ]
    },
    {
      "cell_type": "code",
      "metadata": {
        "id": "1IkRfhuKplhK"
      },
      "source": [
        "from sklearn.ensemble import RandomForestClassifier\n",
        "randomForestClassifier = RandomForestClassifier()\n",
        "randomForestClassifier_model = randomForestClassifier.fit(x_train,y_train)"
      ],
      "execution_count": 71,
      "outputs": []
    },
    {
      "cell_type": "code",
      "metadata": {
        "id": "KE7wpUHFp8mE"
      },
      "source": [
        "y_op_randomForestClassifier = randomForestClassifier_model.predict(x_test)"
      ],
      "execution_count": 77,
      "outputs": []
    },
    {
      "cell_type": "code",
      "metadata": {
        "id": "NQP7rryfqJ6e"
      },
      "source": [
        "\n",
        "y_op_test_randomForestClassifier = randomForestClassifier_model.predict(tf_idf_test)"
      ],
      "execution_count": 75,
      "outputs": []
    },
    {
      "cell_type": "code",
      "metadata": {
        "colab": {
          "base_uri": "https://localhost:8080/"
        },
        "id": "FiVJU7fop_T8",
        "outputId": "260bcbb7-f24a-406f-df9c-25a910b8e306"
      },
      "source": [
        "fetch_the_accuracy(y_op_randomForestClassifier,y_test)"
      ],
      "execution_count": 78,
      "outputs": [
        {
          "output_type": "stream",
          "text": [
            "\u001b[1mAccuracy Score =  72.0 %\u001b[0m\n",
            "\u001b[1mThe Classification report\u001b[0m\n",
            "              precision    recall  f1-score   support\n",
            "\n",
            "           0       0.71      0.70      0.70       669\n",
            "           1       0.72      0.73      0.73       715\n",
            "\n",
            "    accuracy                           0.72      1384\n",
            "   macro avg       0.71      0.71      0.71      1384\n",
            "weighted avg       0.72      0.72      0.72      1384\n",
            "\n"
          ],
          "name": "stdout"
        }
      ]
    },
    {
      "cell_type": "code",
      "metadata": {
        "colab": {
          "base_uri": "https://localhost:8080/"
        },
        "id": "g4KMK26UqUI_",
        "outputId": "3b60e65e-30ba-428c-c643-c2f7c5a6ca59"
      },
      "source": [
        "cross_val_score_computation(randomForestClassifier_model,x_test,y_test)"
      ],
      "execution_count": 79,
      "outputs": [
        {
          "output_type": "stream",
          "text": [
            "\u001b[1mCross Validation Score 62.5 % \u001b[0m\n"
          ],
          "name": "stdout"
        }
      ]
    },
    {
      "cell_type": "code",
      "metadata": {
        "colab": {
          "base_uri": "https://localhost:8080/"
        },
        "id": "ZUjJ4kViqyD1",
        "outputId": "b97fb7f9-5641-4b63-9854-2a8d109af13b"
      },
      "source": [
        "fetch_the_accuracy(y_op_test_randomForestClassifier,testDF[\"polarities\"].values)"
      ],
      "execution_count": 81,
      "outputs": [
        {
          "output_type": "stream",
          "text": [
            "\u001b[1mAccuracy Score =  73.0 %\u001b[0m\n",
            "\u001b[1mThe Classification report\u001b[0m\n",
            "              precision    recall  f1-score   support\n",
            "\n",
            "           0       0.73      0.75      0.74       912\n",
            "           1       0.74      0.72      0.73       909\n",
            "\n",
            "    accuracy                           0.73      1821\n",
            "   macro avg       0.73      0.73      0.73      1821\n",
            "weighted avg       0.73      0.73      0.73      1821\n",
            "\n"
          ],
          "name": "stdout"
        }
      ]
    },
    {
      "cell_type": "code",
      "metadata": {
        "colab": {
          "base_uri": "https://localhost:8080/"
        },
        "id": "wwYRRbM0q3y_",
        "outputId": "9942beeb-d21b-44ee-ac10-d96d83182710"
      },
      "source": [
        "cross_val_score_computation(randomForestClassifier_model,tf_idf_test,y_op_test_randomForestClassifier)"
      ],
      "execution_count": 82,
      "outputs": [
        {
          "output_type": "stream",
          "text": [
            "\u001b[1mCross Validation Score 77.65 % \u001b[0m\n"
          ],
          "name": "stdout"
        }
      ]
    },
    {
      "cell_type": "markdown",
      "metadata": {
        "id": "wQwohl2XrBSQ"
      },
      "source": [
        "**XGBoost Algorithm**"
      ]
    },
    {
      "cell_type": "code",
      "metadata": {
        "id": "CjcOHnqzrDRO"
      },
      "source": [
        "from xgboost import XGBClassifier\n",
        "xgbClassifier = XGBClassifier()\n",
        "xgbClassifier_model = xgbClassifier.fit(x_train,y_train)\n",
        "\n"
      ],
      "execution_count": 85,
      "outputs": []
    },
    {
      "cell_type": "code",
      "metadata": {
        "id": "mASy7tGGsg9r"
      },
      "source": [
        "y_op_xgbClassifier= xgbClassifier_model.predict(x_test)"
      ],
      "execution_count": 86,
      "outputs": []
    },
    {
      "cell_type": "code",
      "metadata": {
        "id": "Tn-PHO2fskXy"
      },
      "source": [
        "op1 = pd.DataFrame(tf_idf_test.toarray())\n",
        "op1.columns = vectorizer1.get_feature_names()"
      ],
      "execution_count": 87,
      "outputs": []
    },
    {
      "cell_type": "code",
      "metadata": {
        "id": "fdAcFVaEsosc"
      },
      "source": [
        "y_op_test_xgbClassifier= xgbClassifier_model.predict(op1)"
      ],
      "execution_count": 88,
      "outputs": []
    },
    {
      "cell_type": "code",
      "metadata": {
        "colab": {
          "base_uri": "https://localhost:8080/"
        },
        "id": "mU_Gw-D4stp8",
        "outputId": "00fe6e2c-6155-4333-cfce-1fe53f130ed7"
      },
      "source": [
        "fetch_the_accuracy(y_op_xgbClassifier,y_test)"
      ],
      "execution_count": 89,
      "outputs": [
        {
          "output_type": "stream",
          "text": [
            "\u001b[1mAccuracy Score =  64.0 %\u001b[0m\n",
            "\u001b[1mThe Classification report\u001b[0m\n",
            "              precision    recall  f1-score   support\n",
            "\n",
            "           0       0.72      0.41      0.52       669\n",
            "           1       0.60      0.85      0.71       715\n",
            "\n",
            "    accuracy                           0.64      1384\n",
            "   macro avg       0.66      0.63      0.61      1384\n",
            "weighted avg       0.66      0.64      0.62      1384\n",
            "\n"
          ],
          "name": "stdout"
        }
      ]
    },
    {
      "cell_type": "code",
      "metadata": {
        "colab": {
          "base_uri": "https://localhost:8080/"
        },
        "id": "vw-ZjoI2sxv8",
        "outputId": "e9956708-41ae-489c-ce1b-a66fab3f6f84"
      },
      "source": [
        "cross_val_score_computation(xgbClassifier_model,x_test,y_test)"
      ],
      "execution_count": 90,
      "outputs": [
        {
          "output_type": "stream",
          "text": [
            "\u001b[1mCross Validation Score 61.56 % \u001b[0m\n"
          ],
          "name": "stdout"
        }
      ]
    }
  ]
}