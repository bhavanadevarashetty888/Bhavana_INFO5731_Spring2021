{
  "nbformat": 4,
  "nbformat_minor": 0,
  "metadata": {
    "colab": {
      "name": "In_class_exercise_02.ipynb",
      "provenance": [],
      "collapsed_sections": [],
      "include_colab_link": true
    },
    "kernelspec": {
      "display_name": "Python 3",
      "language": "python",
      "name": "python3"
    },
    "language_info": {
      "codemirror_mode": {
        "name": "ipython",
        "version": 3
      },
      "file_extension": ".py",
      "mimetype": "text/x-python",
      "name": "python",
      "nbconvert_exporter": "python",
      "pygments_lexer": "ipython3",
      "version": "3.7.4"
    }
  },
  "cells": [
    {
      "cell_type": "markdown",
      "metadata": {
        "id": "view-in-github",
        "colab_type": "text"
      },
      "source": [
        "<a href=\"https://colab.research.google.com/github/bhavanadevarashetty888/Bhavana_INFO5731_Spring2021/blob/main/In_class_exercise_02.ipynb\" target=\"_parent\"><img src=\"https://colab.research.google.com/assets/colab-badge.svg\" alt=\"Open In Colab\"/></a>"
      ]
    },
    {
      "cell_type": "markdown",
      "metadata": {
        "id": "oo5bsEh2eeWi"
      },
      "source": [
        "# **The second In-class-exercise (1/27/2021, 20 points in total)**\n"
      ]
    },
    {
      "cell_type": "markdown",
      "metadata": {
        "id": "2sPQ58dIeqgp"
      },
      "source": [
        "(1) Write a Python program to find the duplicate elements in a given array of integers. Return -1 If there are no such elements. (4 points)"
      ]
    },
    {
      "cell_type": "code",
      "metadata": {
        "colab": {
          "base_uri": "https://localhost:8080/"
        },
        "id": "mnrvKMFTeoJR",
        "outputId": "460af607-61ae-4b5f-a919-46199185956b"
      },
      "source": [
        "# write your answer here\n",
        "ip = [1, 2, 2, 3]\n",
        "def findDup(arr):\n",
        "  dup = []\n",
        "  for x in range(len(arr)):\n",
        "    z = x+1\n",
        "    for y in range(z, len(arr)):\n",
        "      if arr[x] == arr[y]:\n",
        "        dup.append(arr[x])\n",
        "  if len(dup) == 0:\n",
        "    return -1\n",
        "  else:\n",
        "    return dup\n",
        "\n",
        "findDup(ip)\n",
        "\n",
        "  \n",
        "\n",
        "\n"
      ],
      "execution_count": 13,
      "outputs": [
        {
          "output_type": "execute_result",
          "data": {
            "text/plain": [
              "[2]"
            ]
          },
          "metadata": {
            "tags": []
          },
          "execution_count": 13
        }
      ]
    },
    {
      "cell_type": "markdown",
      "metadata": {
        "id": "YYrH6n6IhZoQ"
      },
      "source": [
        "(2) Write a Python program to select all the Sundays of a specified year. (4 points)\n",
        "\n"
      ]
    },
    {
      "cell_type": "code",
      "metadata": {
        "id": "OSfPLd23eLpX"
      },
      "source": [
        "# write your answer here\n",
        "def all_sundays(year):\n",
        "    from datetime import datetime, timedelta\n",
        "    d = datetime(year, month=1, day=1)\n",
        "    sundays = []\n",
        "    \n",
        "    print('First day of the year:', d.strftime('%A'))\n",
        "    \n",
        "    if d.weekday() == 6:\n",
        "        sundays.append(d.strftime('%y-%m-%d'))\n",
        "    else:\n",
        "        d += timedelta(days=6 - d.weekday())\n",
        "        sundays.append(d.strftime('%y-%m-%d'))\n",
        "    \n",
        "    while d.year == year:\n",
        "        d += timedelta(days=7)\n",
        "        sundays.append(d.strftime('%y-%m-%d'))\n",
        "    \n",
        "    return sundays\n",
        "\n"
      ],
      "execution_count": 11,
      "outputs": []
    },
    {
      "cell_type": "markdown",
      "metadata": {
        "id": "UIpziZ6Sjie-"
      },
      "source": [
        "(3) Python files reading and writing. Download the “[exercise_02_data _collection.zip](https://github.com/unt-iialab/info5731_spring2021/blob/main/class_exercises/exercise_02_data_collection.zip)” to your local and un-zip it.\n",
        "\n",
        "*   Write a program to read all the txt files and save the sentences in all the files into one csv file with two columns, the first column is sentence id (txt file name+sentence line number), the second column is the sentence text content. (4 points)\n",
        "*   Remove all the punctuations from the sentences, save the processed sentences into a new column in the same csv file. (4 points)\n",
        "*   Ask the user to enter a word, return all the sentences that include this word, three kinds of information should be returned: sentence id, sentence text content, the count that user input word appear in the sentence. (4 points)\n",
        "\n"
      ]
    },
    {
      "cell_type": "code",
      "metadata": {
        "colab": {
          "resources": {
            "http://localhost:8080/nbextensions/google.colab/files.js": {
              "data": "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",
              "ok": true,
              "headers": [
                [
                  "content-type",
                  "application/javascript"
                ]
              ],
              "status": 200,
              "status_text": ""
            }
          },
          "base_uri": "https://localhost:8080/",
          "height": 1000
        },
        "id": "f3CUsrWOj1Xy",
        "outputId": "a3cb7f98-ec99-4fd2-9f3b-37565c881a36"
      },
      "source": [
        "# write your answer here\n",
        "from google.colab import files\n",
        "fileList = files.upload()\n",
        "\n",
        "\n"
      ],
      "execution_count": 5,
      "outputs": [
        {
          "output_type": "display_data",
          "data": {
            "text/html": [
              "\n",
              "     <input type=\"file\" id=\"files-ba66f8b4-0d0e-447e-9cc7-ac84801db9ae\" name=\"files[]\" multiple disabled\n",
              "        style=\"border:none\" />\n",
              "     <output id=\"result-ba66f8b4-0d0e-447e-9cc7-ac84801db9ae\">\n",
              "      Upload widget is only available when the cell has been executed in the\n",
              "      current browser session. Please rerun this cell to enable.\n",
              "      </output>\n",
              "      <script src=\"/nbextensions/google.colab/files.js\"></script> "
            ],
            "text/plain": [
              "<IPython.core.display.HTML object>"
            ]
          },
          "metadata": {
            "tags": []
          }
        },
        {
          "output_type": "stream",
          "text": [
            "Saving ARTHROTEC.1.txt to ARTHROTEC.1 (1).txt\n",
            "Saving ARTHROTEC.2.txt to ARTHROTEC.2 (1).txt\n",
            "Saving ARTHROTEC.3.txt to ARTHROTEC.3 (1).txt\n",
            "Saving ARTHROTEC.4.txt to ARTHROTEC.4 (1).txt\n",
            "Saving ARTHROTEC.5.txt to ARTHROTEC.5 (1).txt\n",
            "Saving ARTHROTEC.6.txt to ARTHROTEC.6 (1).txt\n",
            "Saving ARTHROTEC.7.txt to ARTHROTEC.7 (1).txt\n",
            "Saving ARTHROTEC.8.txt to ARTHROTEC.8 (1).txt\n",
            "Saving ARTHROTEC.9.txt to ARTHROTEC.9 (1).txt\n",
            "Saving ARTHROTEC.10.txt to ARTHROTEC.10 (1).txt\n",
            "Saving ARTHROTEC.11.txt to ARTHROTEC.11 (1).txt\n",
            "Saving ARTHROTEC.12.txt to ARTHROTEC.12 (1).txt\n",
            "Saving ARTHROTEC.13.txt to ARTHROTEC.13 (1).txt\n",
            "Saving ARTHROTEC.14.txt to ARTHROTEC.14 (1).txt\n",
            "Saving ARTHROTEC.15.txt to ARTHROTEC.15 (1).txt\n",
            "Saving ARTHROTEC.16.txt to ARTHROTEC.16 (1).txt\n",
            "Saving ARTHROTEC.17.txt to ARTHROTEC.17 (1).txt\n",
            "Saving ARTHROTEC.18.txt to ARTHROTEC.18 (1).txt\n",
            "Saving ARTHROTEC.19.txt to ARTHROTEC.19 (1).txt\n",
            "Saving ARTHROTEC.20.txt to ARTHROTEC.20 (1).txt\n",
            "Saving ARTHROTEC.21.txt to ARTHROTEC.21 (1).txt\n",
            "Saving ARTHROTEC.22.txt to ARTHROTEC.22 (1).txt\n",
            "Saving ARTHROTEC.23.txt to ARTHROTEC.23 (1).txt\n",
            "Saving ARTHROTEC.24.txt to ARTHROTEC.24 (1).txt\n",
            "Saving ARTHROTEC.25.txt to ARTHROTEC.25 (1).txt\n",
            "Saving ARTHROTEC.26.txt to ARTHROTEC.26 (1).txt\n",
            "Saving ARTHROTEC.27.txt to ARTHROTEC.27 (1).txt\n",
            "Saving ARTHROTEC.28.txt to ARTHROTEC.28 (1).txt\n",
            "Saving ARTHROTEC.29.txt to ARTHROTEC.29 (1).txt\n",
            "Saving ARTHROTEC.30.txt to ARTHROTEC.30 (1).txt\n",
            "Saving ARTHROTEC.31.txt to ARTHROTEC.31 (1).txt\n",
            "Saving ARTHROTEC.32.txt to ARTHROTEC.32 (1).txt\n",
            "Saving ARTHROTEC.33.txt to ARTHROTEC.33 (1).txt\n",
            "Saving ARTHROTEC.34.txt to ARTHROTEC.34 (1).txt\n",
            "Saving ARTHROTEC.35.txt to ARTHROTEC.35 (1).txt\n",
            "Saving ARTHROTEC.36.txt to ARTHROTEC.36 (1).txt\n",
            "Saving ARTHROTEC.37.txt to ARTHROTEC.37 (1).txt\n",
            "Saving ARTHROTEC.38.txt to ARTHROTEC.38 (1).txt\n",
            "Saving ARTHROTEC.39.txt to ARTHROTEC.39 (1).txt\n",
            "Saving ARTHROTEC.40.txt to ARTHROTEC.40 (1).txt\n",
            "Saving ARTHROTEC.41.txt to ARTHROTEC.41 (1).txt\n",
            "Saving ARTHROTEC.42.txt to ARTHROTEC.42 (1).txt\n",
            "Saving ARTHROTEC.43.txt to ARTHROTEC.43 (1).txt\n",
            "Saving ARTHROTEC.44.txt to ARTHROTEC.44 (1).txt\n",
            "Saving ARTHROTEC.45.txt to ARTHROTEC.45 (1).txt\n",
            "Saving ARTHROTEC.46.txt to ARTHROTEC.46 (1).txt\n",
            "Saving ARTHROTEC.47.txt to ARTHROTEC.47 (1).txt\n",
            "Saving ARTHROTEC.48.txt to ARTHROTEC.48 (1).txt\n",
            "Saving ARTHROTEC.49.txt to ARTHROTEC.49 (1).txt\n",
            "Saving ARTHROTEC.50.txt to ARTHROTEC.50 (1).txt\n",
            "Saving ARTHROTEC.51.txt to ARTHROTEC.51 (1).txt\n",
            "Saving ARTHROTEC.52.txt to ARTHROTEC.52 (1).txt\n",
            "Saving ARTHROTEC.53.txt to ARTHROTEC.53 (1).txt\n",
            "Saving ARTHROTEC.54.txt to ARTHROTEC.54 (1).txt\n",
            "Saving ARTHROTEC.55.txt to ARTHROTEC.55 (1).txt\n",
            "Saving ARTHROTEC.56.txt to ARTHROTEC.56 (1).txt\n",
            "Saving ARTHROTEC.57.txt to ARTHROTEC.57 (1).txt\n",
            "Saving ARTHROTEC.58.txt to ARTHROTEC.58 (1).txt\n",
            "Saving ARTHROTEC.59.txt to ARTHROTEC.59 (1).txt\n",
            "Saving ARTHROTEC.60.txt to ARTHROTEC.60 (1).txt\n",
            "Saving ARTHROTEC.61.txt to ARTHROTEC.61 (1).txt\n",
            "Saving ARTHROTEC.62.txt to ARTHROTEC.62 (1).txt\n",
            "Saving ARTHROTEC.63.txt to ARTHROTEC.63 (1).txt\n",
            "Saving ARTHROTEC.64.txt to ARTHROTEC.64 (1).txt\n",
            "Saving ARTHROTEC.65.txt to ARTHROTEC.65 (1).txt\n",
            "Saving ARTHROTEC.66.txt to ARTHROTEC.66 (1).txt\n",
            "Saving ARTHROTEC.67.txt to ARTHROTEC.67 (1).txt\n",
            "Saving ARTHROTEC.68.txt to ARTHROTEC.68 (1).txt\n",
            "Saving ARTHROTEC.69.txt to ARTHROTEC.69 (1).txt\n",
            "Saving ARTHROTEC.70.txt to ARTHROTEC.70 (1).txt\n",
            "Saving ARTHROTEC.71.txt to ARTHROTEC.71 (1).txt\n",
            "Saving ARTHROTEC.72.txt to ARTHROTEC.72 (1).txt\n",
            "Saving ARTHROTEC.73.txt to ARTHROTEC.73 (1).txt\n",
            "Saving ARTHROTEC.74.txt to ARTHROTEC.74 (1).txt\n",
            "Saving ARTHROTEC.75.txt to ARTHROTEC.75 (1).txt\n",
            "Saving ARTHROTEC.76.txt to ARTHROTEC.76 (1).txt\n",
            "Saving ARTHROTEC.77.txt to ARTHROTEC.77 (1).txt\n",
            "Saving ARTHROTEC.78.txt to ARTHROTEC.78 (1).txt\n",
            "Saving ARTHROTEC.79.txt to ARTHROTEC.79 (1).txt\n",
            "Saving ARTHROTEC.80.txt to ARTHROTEC.80 (1).txt\n",
            "Saving ARTHROTEC.81.txt to ARTHROTEC.81 (1).txt\n",
            "Saving ARTHROTEC.82.txt to ARTHROTEC.82 (1).txt\n",
            "Saving ARTHROTEC.83.txt to ARTHROTEC.83 (1).txt\n",
            "Saving ARTHROTEC.84.txt to ARTHROTEC.84 (1).txt\n",
            "Saving ARTHROTEC.85.txt to ARTHROTEC.85 (1).txt\n",
            "Saving ARTHROTEC.86.txt to ARTHROTEC.86 (1).txt\n",
            "Saving ARTHROTEC.87.txt to ARTHROTEC.87 (1).txt\n",
            "Saving ARTHROTEC.88.txt to ARTHROTEC.88 (1).txt\n",
            "Saving ARTHROTEC.89.txt to ARTHROTEC.89 (1).txt\n",
            "Saving ARTHROTEC.90.txt to ARTHROTEC.90 (1).txt\n",
            "Saving ARTHROTEC.91.txt to ARTHROTEC.91 (1).txt\n",
            "Saving ARTHROTEC.92.txt to ARTHROTEC.92 (1).txt\n",
            "Saving ARTHROTEC.93.txt to ARTHROTEC.93 (1).txt\n",
            "Saving ARTHROTEC.94.txt to ARTHROTEC.94 (1).txt\n",
            "Saving ARTHROTEC.95.txt to ARTHROTEC.95 (1).txt\n",
            "Saving ARTHROTEC.96.txt to ARTHROTEC.96 (1).txt\n",
            "Saving ARTHROTEC.97.txt to ARTHROTEC.97 (1).txt\n",
            "Saving ARTHROTEC.98.txt to ARTHROTEC.98 (1).txt\n",
            "Saving ARTHROTEC.99.txt to ARTHROTEC.99 (1).txt\n",
            "Saving ARTHROTEC.100.txt to ARTHROTEC.100 (1).txt\n"
          ],
          "name": "stdout"
        }
      ]
    },
    {
      "cell_type": "code",
      "metadata": {
        "id": "C44oZJPAmcNO"
      },
      "source": [
        "#3a\r\n",
        "\r\n",
        "import pandas as pd\r\n",
        "sentence_id = []\r\n",
        "sentence_textContent = []\r\n",
        "for files in fileList:\r\n",
        "  with open(files, 'r') as file:\r\n",
        "    content = file.read()\r\n",
        "    split_content = content.splitlines()\r\n",
        "    for line_number in range(len(split_content)):\r\n",
        "      sentence_id.append(files + '_' +str(line_number))\r\n",
        "      sentence_textContent.append(split_content[line_number])\r\n",
        "dataFr = pd.DataFrame(list(zip(sentence_id, sentence_textContent)), \r\n",
        "               columns =['Sentence id', 'sentence_textContent'])\r\n",
        "dataFr.to_csv('result.csv', index = False)\r\n"
      ],
      "execution_count": 7,
      "outputs": []
    },
    {
      "cell_type": "code",
      "metadata": {
        "colab": {
          "base_uri": "https://localhost:8080/",
          "height": 402
        },
        "id": "pGTPStCxm31H",
        "outputId": "1bdfca97-bbd0-44ee-846f-b0237f4a57e4"
      },
      "source": [
        "#3b\r\n",
        "\r\n",
        "import string\r\n",
        "\r\n",
        "dataFr['remove Punctuation'] = dataFr['sentence_textContent'].apply(lambda x:''.join([i for i in x \r\n",
        "                                                                                      if i not in string.punctuation]))\r\n",
        "dataFr.to_csv('reult.csv', index = False)\r\n",
        "dataFr"
      ],
      "execution_count": 8,
      "outputs": [
        {
          "output_type": "execute_result",
          "data": {
            "text/html": [
              "<div>\n",
              "<style scoped>\n",
              "    .dataframe tbody tr th:only-of-type {\n",
              "        vertical-align: middle;\n",
              "    }\n",
              "\n",
              "    .dataframe tbody tr th {\n",
              "        vertical-align: top;\n",
              "    }\n",
              "\n",
              "    .dataframe thead th {\n",
              "        text-align: right;\n",
              "    }\n",
              "</style>\n",
              "<table border=\"1\" class=\"dataframe\">\n",
              "  <thead>\n",
              "    <tr style=\"text-align: right;\">\n",
              "      <th></th>\n",
              "      <th>Sentence id</th>\n",
              "      <th>sentence_textContent</th>\n",
              "      <th>remove Punctuation</th>\n",
              "    </tr>\n",
              "  </thead>\n",
              "  <tbody>\n",
              "    <tr>\n",
              "      <th>0</th>\n",
              "      <td>ARTHROTEC.1.txt_0</td>\n",
              "      <td>I feel a bit drowsy &amp; have a little blurred vi...</td>\n",
              "      <td>I feel a bit drowsy  have a little blurred vis...</td>\n",
              "    </tr>\n",
              "    <tr>\n",
              "      <th>1</th>\n",
              "      <td>ARTHROTEC.1.txt_1</td>\n",
              "      <td>I've been on Arthrotec 50 for over 10 years on...</td>\n",
              "      <td>Ive been on Arthrotec 50 for over 10 years on ...</td>\n",
              "    </tr>\n",
              "    <tr>\n",
              "      <th>2</th>\n",
              "      <td>ARTHROTEC.1.txt_2</td>\n",
              "      <td>Due to my arthritis getting progressively wors...</td>\n",
              "      <td>Due to my arthritis getting progressively wors...</td>\n",
              "    </tr>\n",
              "    <tr>\n",
              "      <th>3</th>\n",
              "      <td>ARTHROTEC.1.txt_3</td>\n",
              "      <td>every day for the next month to see how I get ...</td>\n",
              "      <td>every day for the next month to see how I get ...</td>\n",
              "    </tr>\n",
              "    <tr>\n",
              "      <th>4</th>\n",
              "      <td>ARTHROTEC.1.txt_4</td>\n",
              "      <td>So far its been very good, pains almost gone, ...</td>\n",
              "      <td>So far its been very good pains almost gone bu...</td>\n",
              "    </tr>\n",
              "    <tr>\n",
              "      <th>...</th>\n",
              "      <td>...</td>\n",
              "      <td>...</td>\n",
              "      <td>...</td>\n",
              "    </tr>\n",
              "    <tr>\n",
              "      <th>530</th>\n",
              "      <td>ARTHROTEC.100.txt_3</td>\n",
              "      <td>canker sores in my mouth.</td>\n",
              "      <td>canker sores in my mouth</td>\n",
              "    </tr>\n",
              "    <tr>\n",
              "      <th>531</th>\n",
              "      <td>ARTHROTEC.100.txt_4</td>\n",
              "      <td>headache.</td>\n",
              "      <td>headache</td>\n",
              "    </tr>\n",
              "    <tr>\n",
              "      <th>532</th>\n",
              "      <td>ARTHROTEC.100.txt_5</td>\n",
              "      <td>been off for 1 week still have bleeding.</td>\n",
              "      <td>been off for 1 week still have bleeding</td>\n",
              "    </tr>\n",
              "    <tr>\n",
              "      <th>533</th>\n",
              "      <td>ARTHROTEC.100.txt_6</td>\n",
              "      <td>helped my pain alot .</td>\n",
              "      <td>helped my pain alot</td>\n",
              "    </tr>\n",
              "    <tr>\n",
              "      <th>534</th>\n",
              "      <td>ARTHROTEC.100.txt_7</td>\n",
              "      <td>too scared to take this drug again.</td>\n",
              "      <td>too scared to take this drug again</td>\n",
              "    </tr>\n",
              "  </tbody>\n",
              "</table>\n",
              "<p>535 rows × 3 columns</p>\n",
              "</div>"
            ],
            "text/plain": [
              "             Sentence id  ...                                 remove Punctuation\n",
              "0      ARTHROTEC.1.txt_0  ...  I feel a bit drowsy  have a little blurred vis...\n",
              "1      ARTHROTEC.1.txt_1  ...  Ive been on Arthrotec 50 for over 10 years on ...\n",
              "2      ARTHROTEC.1.txt_2  ...  Due to my arthritis getting progressively wors...\n",
              "3      ARTHROTEC.1.txt_3  ...  every day for the next month to see how I get ...\n",
              "4      ARTHROTEC.1.txt_4  ...  So far its been very good pains almost gone bu...\n",
              "..                   ...  ...                                                ...\n",
              "530  ARTHROTEC.100.txt_3  ...                           canker sores in my mouth\n",
              "531  ARTHROTEC.100.txt_4  ...                                           headache\n",
              "532  ARTHROTEC.100.txt_5  ...            been off for 1 week still have bleeding\n",
              "533  ARTHROTEC.100.txt_6  ...                               helped my pain alot \n",
              "534  ARTHROTEC.100.txt_7  ...                 too scared to take this drug again\n",
              "\n",
              "[535 rows x 3 columns]"
            ]
          },
          "metadata": {
            "tags": []
          },
          "execution_count": 8
        }
      ]
    },
    {
      "cell_type": "code",
      "metadata": {
        "colab": {
          "base_uri": "https://localhost:8080/",
          "height": 418
        },
        "id": "sdl-rMU6n3gq",
        "outputId": "51b56bdb-1e5e-4da6-d2de-416a24499471"
      },
      "source": [
        "#3c\r\n",
        "\r\n",
        "wordSearch = input('Please enter the word')\r\n",
        "dataFrame_Res =dataFr[dataFr['sentence_textContent'].str.contains(wordSearch,na=False)]\r\n",
        "dataFram_final_Res = dataFrame_Res[['Sentence id','sentence_textContent']]\r\n",
        "dataFram_final_Res['wordcount'] = dataFr['sentence_textContent'].apply(lambda x: x.count(wordSearch))\r\n",
        "dataFram_final_Res\r\n",
        "\r\n",
        "\r\n",
        "\r\n"
      ],
      "execution_count": 33,
      "outputs": [
        {
          "output_type": "stream",
          "text": [
            "Please enter the wordpain\n"
          ],
          "name": "stdout"
        },
        {
          "output_type": "execute_result",
          "data": {
            "text/html": [
              "<div>\n",
              "<style scoped>\n",
              "    .dataframe tbody tr th:only-of-type {\n",
              "        vertical-align: middle;\n",
              "    }\n",
              "\n",
              "    .dataframe tbody tr th {\n",
              "        vertical-align: top;\n",
              "    }\n",
              "\n",
              "    .dataframe thead th {\n",
              "        text-align: right;\n",
              "    }\n",
              "</style>\n",
              "<table border=\"1\" class=\"dataframe\">\n",
              "  <thead>\n",
              "    <tr style=\"text-align: right;\">\n",
              "      <th></th>\n",
              "      <th>Sentence id</th>\n",
              "      <th>sentence_textContent</th>\n",
              "      <th>wordcount</th>\n",
              "    </tr>\n",
              "  </thead>\n",
              "  <tbody>\n",
              "    <tr>\n",
              "      <th>4</th>\n",
              "      <td>ARTHROTEC.1.txt_4</td>\n",
              "      <td>So far its been very good, pains almost gone, ...</td>\n",
              "      <td>1</td>\n",
              "    </tr>\n",
              "    <tr>\n",
              "      <th>5</th>\n",
              "      <td>ARTHROTEC.2.txt_0</td>\n",
              "      <td>heartburn, nausea, frequent feelings of voraci...</td>\n",
              "      <td>1</td>\n",
              "    </tr>\n",
              "    <tr>\n",
              "      <th>6</th>\n",
              "      <td>ARTHROTEC.2.txt_1</td>\n",
              "      <td>Did not seem to make a lot of difference to th...</td>\n",
              "      <td>1</td>\n",
              "    </tr>\n",
              "    <tr>\n",
              "      <th>7</th>\n",
              "      <td>ARTHROTEC.2.txt_2</td>\n",
              "      <td>Stopped taking it after 13 days, prefer the pa...</td>\n",
              "      <td>1</td>\n",
              "    </tr>\n",
              "    <tr>\n",
              "      <th>8</th>\n",
              "      <td>ARTHROTEC.3.txt_0</td>\n",
              "      <td>Constipation right from the start and in ladt ...</td>\n",
              "      <td>1</td>\n",
              "    </tr>\n",
              "    <tr>\n",
              "      <th>...</th>\n",
              "      <td>...</td>\n",
              "      <td>...</td>\n",
              "      <td>...</td>\n",
              "    </tr>\n",
              "    <tr>\n",
              "      <th>516</th>\n",
              "      <td>ARTHROTEC.97.txt_1</td>\n",
              "      <td>They included fluid retention, all over muscle...</td>\n",
              "      <td>1</td>\n",
              "    </tr>\n",
              "    <tr>\n",
              "      <th>524</th>\n",
              "      <td>ARTHROTEC.99.txt_3</td>\n",
              "      <td>There are no gas pains and no other symptoms, ...</td>\n",
              "      <td>1</td>\n",
              "    </tr>\n",
              "    <tr>\n",
              "      <th>525</th>\n",
              "      <td>ARTHROTEC.99.txt_4</td>\n",
              "      <td>When I am on holiday at the coast I am pain fr...</td>\n",
              "      <td>2</td>\n",
              "    </tr>\n",
              "    <tr>\n",
              "      <th>529</th>\n",
              "      <td>ARTHROTEC.100.txt_2</td>\n",
              "      <td>stomach pain.</td>\n",
              "      <td>1</td>\n",
              "    </tr>\n",
              "    <tr>\n",
              "      <th>533</th>\n",
              "      <td>ARTHROTEC.100.txt_6</td>\n",
              "      <td>helped my pain alot .</td>\n",
              "      <td>1</td>\n",
              "    </tr>\n",
              "  </tbody>\n",
              "</table>\n",
              "<p>125 rows × 3 columns</p>\n",
              "</div>"
            ],
            "text/plain": [
              "             Sentence id  ... wordcount\n",
              "4      ARTHROTEC.1.txt_4  ...         1\n",
              "5      ARTHROTEC.2.txt_0  ...         1\n",
              "6      ARTHROTEC.2.txt_1  ...         1\n",
              "7      ARTHROTEC.2.txt_2  ...         1\n",
              "8      ARTHROTEC.3.txt_0  ...         1\n",
              "..                   ...  ...       ...\n",
              "516   ARTHROTEC.97.txt_1  ...         1\n",
              "524   ARTHROTEC.99.txt_3  ...         1\n",
              "525   ARTHROTEC.99.txt_4  ...         2\n",
              "529  ARTHROTEC.100.txt_2  ...         1\n",
              "533  ARTHROTEC.100.txt_6  ...         1\n",
              "\n",
              "[125 rows x 3 columns]"
            ]
          },
          "metadata": {
            "tags": []
          },
          "execution_count": 33
        }
      ]
    },
    {
      "cell_type": "markdown",
      "metadata": {
        "id": "-12cqmJEpZOh"
      },
      "source": [
        "(4) Install packages nltk, numpy, scipy, pandas, and sklearn on Google Colab. Write a program to test whether they are installed successfully. (3 points for extra)"
      ]
    },
    {
      "cell_type": "code",
      "metadata": {
        "colab": {
          "base_uri": "https://localhost:8080/"
        },
        "id": "f1pn1Zl2qK77",
        "outputId": "0ac7284a-3c0d-4805-bf9e-226416811851"
      },
      "source": [
        "# write your answer here\n",
        "!pip install nltk\n",
        "!pip install numpy\n",
        "!pip install scipy\n",
        "!pip install pandas\n",
        "!pip install sklearn\n",
        "\n",
        "import nltk\n",
        "import numpy\n",
        "import scipy\n",
        "import pandas\n",
        "import sklearn\n",
        "\n",
        "print('nltk version: {}'.format(nltk.__version__))\n",
        "print('numpy version: {}'.format(numpy.__version__))\n",
        "print('scipy version: {}'.format(scipy.__version__))\n",
        "print('pandas version: {}'.format(pandas.__version__))\n",
        "print('sklearn version: {}'.format(sklearn.__version__))\n",
        "\n",
        "\n",
        "\n"
      ],
      "execution_count": 38,
      "outputs": [
        {
          "output_type": "stream",
          "text": [
            "Requirement already satisfied: nltk in /usr/local/lib/python3.6/dist-packages (3.2.5)\n",
            "Requirement already satisfied: six in /usr/local/lib/python3.6/dist-packages (from nltk) (1.15.0)\n",
            "Requirement already satisfied: numpy in /usr/local/lib/python3.6/dist-packages (1.19.5)\n",
            "Requirement already satisfied: scipy in /usr/local/lib/python3.6/dist-packages (1.4.1)\n",
            "Requirement already satisfied: numpy>=1.13.3 in /usr/local/lib/python3.6/dist-packages (from scipy) (1.19.5)\n",
            "Requirement already satisfied: pandas in /usr/local/lib/python3.6/dist-packages (1.1.5)\n",
            "Requirement already satisfied: numpy>=1.15.4 in /usr/local/lib/python3.6/dist-packages (from pandas) (1.19.5)\n",
            "Requirement already satisfied: python-dateutil>=2.7.3 in /usr/local/lib/python3.6/dist-packages (from pandas) (2.8.1)\n",
            "Requirement already satisfied: pytz>=2017.2 in /usr/local/lib/python3.6/dist-packages (from pandas) (2018.9)\n",
            "Requirement already satisfied: six>=1.5 in /usr/local/lib/python3.6/dist-packages (from python-dateutil>=2.7.3->pandas) (1.15.0)\n",
            "Requirement already satisfied: sklearn in /usr/local/lib/python3.6/dist-packages (0.0)\n",
            "Requirement already satisfied: scikit-learn in /usr/local/lib/python3.6/dist-packages (from sklearn) (0.22.2.post1)\n",
            "Requirement already satisfied: joblib>=0.11 in /usr/local/lib/python3.6/dist-packages (from scikit-learn->sklearn) (1.0.0)\n",
            "Requirement already satisfied: scipy>=0.17.0 in /usr/local/lib/python3.6/dist-packages (from scikit-learn->sklearn) (1.4.1)\n",
            "Requirement already satisfied: numpy>=1.11.0 in /usr/local/lib/python3.6/dist-packages (from scikit-learn->sklearn) (1.19.5)\n",
            "nltk version: 3.2.5\n",
            "numpy version: 1.19.5\n",
            "scipy version: 1.4.1\n",
            "pandas version: 1.1.5\n",
            "sklearn version: 0.22.2.post1\n"
          ],
          "name": "stdout"
        }
      ]
    }
  ]
}