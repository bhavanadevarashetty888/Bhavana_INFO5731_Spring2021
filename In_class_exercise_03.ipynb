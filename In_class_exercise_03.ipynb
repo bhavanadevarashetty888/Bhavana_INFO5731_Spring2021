{
  "nbformat": 4,
  "nbformat_minor": 0,
  "metadata": {
    "kernelspec": {
      "display_name": "Python 3",
      "language": "python",
      "name": "python3"
    },
    "language_info": {
      "codemirror_mode": {
        "name": "ipython",
        "version": 3
      },
      "file_extension": ".py",
      "mimetype": "text/x-python",
      "name": "python",
      "nbconvert_exporter": "python",
      "pygments_lexer": "ipython3",
      "version": "3.7.4"
    },
    "colab": {
      "name": "In-class-exercise-03.ipynb",
      "provenance": [],
      "include_colab_link": true
    }
  },
  "cells": [
    {
      "cell_type": "markdown",
      "metadata": {
        "id": "view-in-github",
        "colab_type": "text"
      },
      "source": [
        "<a href=\"https://colab.research.google.com/github/bhavanadevarashetty888/Bhavana_INFO5731_Spring2021/blob/main/In_class_exercise_03.ipynb\" target=\"_parent\"><img src=\"https://colab.research.google.com/assets/colab-badge.svg\" alt=\"Open In Colab\"/></a>"
      ]
    },
    {
      "cell_type": "markdown",
      "metadata": {
        "id": "mjWRFErsKQHw"
      },
      "source": [
        "## The third In-class-exercise (9/16/2020, 20 points in total)"
      ]
    },
    {
      "cell_type": "markdown",
      "metadata": {
        "id": "2FNBEjuXKQHz"
      },
      "source": [
        "The purpose of this exercise is to under users' information needs, then collect the data for analysis."
      ]
    },
    {
      "cell_type": "markdown",
      "metadata": {
        "id": "m55rPyS5KQH0"
      },
      "source": [
        "Question 1 (8 points): Describe an interesting research question (or practical question) you have in mind, what kind of data should be collected to answer the question(s)? How many data needed for the analysis? The detail steps for collecting and save the data. "
      ]
    },
    {
      "cell_type": "code",
      "metadata": {
        "id": "QQmDpM3SKQH1"
      },
      "source": [
        "# Your answer here (no code for this question, write down your answer as detail as possible for the above questions):\n",
        "\n",
        "'''\n",
        "Please write you answer here:\n",
        "Flipkart is the most popular e-commerce website in India. I have bought iphone 11 from the flipkart website. I have decided to get the reviews of the \n",
        "iphone11\n",
        "To get this data, I have used two Python libraries - BeautifulSoup and Requests. I have written the steps I have did to collect the data\n",
        "1) I have taken the for loop to iterate it through all the pages\n",
        "2) To get the required page, I have used requests Pyhthon library.\n",
        "3) I have used beautiful soup to collect the data \n",
        "4) I have used the inspect element to find out the class names for the title of the reviews and for the full text\n",
        "5) I have used find all function by using the class names to get the data\n",
        "6) To display the data, I have used data frame\n",
        "\n",
        "\n",
        "\n",
        "\n",
        "'''"
      ],
      "execution_count": null,
      "outputs": []
    },
    {
      "cell_type": "markdown",
      "metadata": {
        "id": "ktTS0ZcpKQH1"
      },
      "source": [
        "Question 2 (12 points): Write python code to collect 500 items of the data you plan to collect above."
      ]
    },
    {
      "cell_type": "code",
      "metadata": {
        "colab": {
          "base_uri": "https://localhost:8080/",
          "height": 402
        },
        "id": "VltYt3jqKQH2",
        "outputId": "397a2098-507b-4e0e-d273-2ddd9cef5b6c"
      },
      "source": [
        "from bs4 import BeautifulSoup\n",
        "import pandas\n",
        "title = []\n",
        "fullReview =[]\n",
        "for i in range(40):\n",
        "  URL = \"https://www.flipkart.com/apple-iphone-11-white-64-gb/product-reviews/itmfc6a7091eb20b?pid=MOBFWQ6BVWVEH3XE&lid=LSTMOBFWQ6BVWVEH3XESAHPTP&marketplace=FLIPKART&page=\" + str(i)\n",
        "  webPage = requests.get(URL) \n",
        "  beautifulSoup = BeautifulSoup(webPage.text, 'html.parser')\n",
        "  title_text = beautifulSoup.find_all(class_='_2-N8zT') \n",
        "  fullReview_text = beautifulSoup.find_all(class_='t-ZTKy') \n",
        "  for ele1, ele2 in zip(title_text, fullReview_text): \n",
        "      title.append(ele1.text) \n",
        "      fullReview.append(ele2.text)\n",
        "res = pandas.DataFrame(list(zip(title, fullReview)), columns =['Title of the review', 'Full text review']) \n",
        "res\n"
      ],
      "execution_count": 19,
      "outputs": [
        {
          "output_type": "execute_result",
          "data": {
            "text/html": [
              "<div>\n",
              "<style scoped>\n",
              "    .dataframe tbody tr th:only-of-type {\n",
              "        vertical-align: middle;\n",
              "    }\n",
              "\n",
              "    .dataframe tbody tr th {\n",
              "        vertical-align: top;\n",
              "    }\n",
              "\n",
              "    .dataframe thead th {\n",
              "        text-align: right;\n",
              "    }\n",
              "</style>\n",
              "<table border=\"1\" class=\"dataframe\">\n",
              "  <thead>\n",
              "    <tr style=\"text-align: right;\">\n",
              "      <th></th>\n",
              "      <th>Title of the review</th>\n",
              "      <th>Full text review</th>\n",
              "    </tr>\n",
              "  </thead>\n",
              "  <tbody>\n",
              "    <tr>\n",
              "      <th>0</th>\n",
              "      <td>Perfect product!</td>\n",
              "      <td>Amazing phone with great cameras and better ba...</td>\n",
              "    </tr>\n",
              "    <tr>\n",
              "      <th>1</th>\n",
              "      <td>Great product</td>\n",
              "      <td>Amazing Powerful and Durable Gadget.I’m am ver...</td>\n",
              "    </tr>\n",
              "    <tr>\n",
              "      <th>2</th>\n",
              "      <td>Highly recommended</td>\n",
              "      <td>iphone 11 is a very good phone to buy only if ...</td>\n",
              "    </tr>\n",
              "    <tr>\n",
              "      <th>3</th>\n",
              "      <td>Perfect product!</td>\n",
              "      <td>It’s a must buy who is looking for an upgrade ...</td>\n",
              "    </tr>\n",
              "    <tr>\n",
              "      <th>4</th>\n",
              "      <td>Brilliant</td>\n",
              "      <td>The Best Phone for the MoneyThe iPhone 11 offe...</td>\n",
              "    </tr>\n",
              "    <tr>\n",
              "      <th>...</th>\n",
              "      <td>...</td>\n",
              "      <td>...</td>\n",
              "    </tr>\n",
              "    <tr>\n",
              "      <th>382</th>\n",
              "      <td>Mind-blowing purchase</td>\n",
              "      <td>Very Excellent iPhone must buyREAD MORE</td>\n",
              "    </tr>\n",
              "    <tr>\n",
              "      <th>383</th>\n",
              "      <td>Delightful</td>\n",
              "      <td>Best phone and deliver was also bestREAD MORE</td>\n",
              "    </tr>\n",
              "    <tr>\n",
              "      <th>384</th>\n",
              "      <td>Wonderful</td>\n",
              "      <td>It’s my first iPhone and I absolutely love it....</td>\n",
              "    </tr>\n",
              "    <tr>\n",
              "      <th>385</th>\n",
              "      <td>Great product</td>\n",
              "      <td>First I want to say thanks to Apple for this a...</td>\n",
              "    </tr>\n",
              "    <tr>\n",
              "      <th>386</th>\n",
              "      <td>Worthless</td>\n",
              "      <td>Bad packaging and box seal is broken.. it's li...</td>\n",
              "    </tr>\n",
              "  </tbody>\n",
              "</table>\n",
              "<p>387 rows × 2 columns</p>\n",
              "</div>"
            ],
            "text/plain": [
              "       Title of the review                                   Full text review\n",
              "0         Perfect product!  Amazing phone with great cameras and better ba...\n",
              "1            Great product  Amazing Powerful and Durable Gadget.I’m am ver...\n",
              "2       Highly recommended  iphone 11 is a very good phone to buy only if ...\n",
              "3         Perfect product!  It’s a must buy who is looking for an upgrade ...\n",
              "4                Brilliant  The Best Phone for the MoneyThe iPhone 11 offe...\n",
              "..                     ...                                                ...\n",
              "382  Mind-blowing purchase            Very Excellent iPhone must buyREAD MORE\n",
              "383             Delightful      Best phone and deliver was also bestREAD MORE\n",
              "384              Wonderful  It’s my first iPhone and I absolutely love it....\n",
              "385          Great product  First I want to say thanks to Apple for this a...\n",
              "386              Worthless  Bad packaging and box seal is broken.. it's li...\n",
              "\n",
              "[387 rows x 2 columns]"
            ]
          },
          "metadata": {
            "tags": []
          },
          "execution_count": 19
        }
      ]
    }
  ]
}