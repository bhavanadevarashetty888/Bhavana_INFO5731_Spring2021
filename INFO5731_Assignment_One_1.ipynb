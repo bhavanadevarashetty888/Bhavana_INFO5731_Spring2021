{
  "nbformat": 4,
  "nbformat_minor": 0,
  "metadata": {
    "colab": {
      "name": "INFO5731_Assignment_One-1.ipynb",
      "provenance": [],
      "collapsed_sections": [],
      "include_colab_link": true
    },
    "kernelspec": {
      "display_name": "Python 3",
      "language": "python",
      "name": "python3"
    },
    "language_info": {
      "codemirror_mode": {
        "name": "ipython",
        "version": 3
      },
      "file_extension": ".py",
      "mimetype": "text/x-python",
      "name": "python",
      "nbconvert_exporter": "python",
      "pygments_lexer": "ipython3",
      "version": "3.7.4"
    }
  },
  "cells": [
    {
      "cell_type": "markdown",
      "metadata": {
        "id": "view-in-github",
        "colab_type": "text"
      },
      "source": [
        "<a href=\"https://colab.research.google.com/github/bhavanadevarashetty888/Bhavana_INFO5731_Spring2021/blob/main/INFO5731_Assignment_One_1.ipynb\" target=\"_parent\"><img src=\"https://colab.research.google.com/assets/colab-badge.svg\" alt=\"Open In Colab\"/></a>"
      ]
    },
    {
      "cell_type": "markdown",
      "metadata": {
        "id": "Ryk8D1Q4Wsrp"
      },
      "source": [
        "# **INFO5731 Assignment One**"
      ]
    },
    {
      "cell_type": "markdown",
      "metadata": {
        "id": "90_NR8c5XGWc"
      },
      "source": [
        "# Question 1\n",
        "\n",
        "(20 points). Write a Python program to generate 12 random numbers between 1 and 100. Sort the list of numbers in ascending order and print it out. Sort the list of numbers in descending order and print it out. Calculate the average for the group and print it out."
      ]
    },
    {
      "cell_type": "code",
      "metadata": {
        "colab": {
          "base_uri": "https://localhost:8080/"
        },
        "id": "5QX6bJjGWXY9",
        "outputId": "17acfc83-94e7-48ac-adc4-033f42591a16"
      },
      "source": [
        "# Your code here\n",
        "import random\n",
        "random_list = random.sample(range(100), 12)\n",
        "random_list.sort();\n",
        "print(\"Ascending order:\", random_list)\n",
        "\n",
        "random_list.sort(reverse=True)\n",
        "print(\"Descending order:\", random_list)\n",
        "\n",
        "avg = sum(random_list)/12\n",
        "print(\"avg:\", avg)"
      ],
      "execution_count": 5,
      "outputs": [
        {
          "output_type": "stream",
          "text": [
            "Ascending order: [22, 26, 34, 35, 45, 49, 51, 56, 62, 66, 80, 91]\n",
            "Descending order: [91, 80, 66, 62, 56, 51, 49, 45, 35, 34, 26, 22]\n",
            "avg: 51.416666666666664\n"
          ],
          "name": "stdout"
        }
      ]
    },
    {
      "cell_type": "markdown",
      "metadata": {
        "id": "1F_PZdH9Sh49"
      },
      "source": [
        "# Question 2\n",
        "(25 points). Write a program that will do the following string formatting tasks:\n",
        "\n",
        "(1) Ask the user to enter two sentences.\n",
        "\n",
        "(2) Make each sentence into a list. Each element in the list should correspond to a word in the sentence. For example, if the sentence is \"Alas! Am I alive? This is my first python program\", the program should print out ['Alas, '!', 'Am', 'I', 'alive, '?', 'This', 'is', 'my', 'first', 'python', 'program'].\n",
        "\n",
        "(3) Compare the two sentences. Print out a list of words that occur in both sentences.\n",
        "\n",
        "(4) Remove any punctuation from the sentence and print it back out. It should remove at least the following characters, but it can remove more: period(“.”), comma (“,”), semicolon (“;”), and colon (“:”)\n",
        "\n",
        "(5) Count the number of vowels in the sentences. Print out each vowel and the number of times it appears in the sentences, such as: a:2, e:1, i:0, etc"
      ]
    },
    {
      "cell_type": "code",
      "metadata": {
        "colab": {
          "base_uri": "https://localhost:8080/"
        },
        "id": "Y0oOSlsOS0cq",
        "outputId": "e8ce85a1-ac1b-4ef7-a12d-78942f1d922c"
      },
      "source": [
        "# Your code here\n",
        "import re\n",
        "input1 = input('Enter a sentence ')\n",
        "list1 = re.findall(r\"[\\w']+|[.,;:!?]\", input1)\n",
        "print (list1)\n",
        "\n",
        "input2 = input('Enter a sentence ')\n",
        "list2 = re.findall(r\"[\\w']+|[.,;:?!]\", input2)\n",
        "print(list2)\n",
        "\n",
        "#2.3 Compare the two sentences. Print out a list of words that occur in both sentences.\n",
        "\n",
        "res = []\n",
        "for element in list1:\n",
        "  if element in list2:\n",
        "    res.append(element)\n",
        "print ('common elements are',res)\n",
        "\n",
        "#2.4 Remove any punctuation from the sentence and print it back out. \n",
        "#    It should remove at least the following characters, but it can remove more: period(“.”), comma (“,”), semicolon (“;”), and colon (“:”)\n",
        "\n",
        "punctuation = ''':;'\",.?!@#$%^&*~`'''\n",
        "res = \"\"\n",
        "for i in input1:\n",
        "  if i not in punctuation:\n",
        "    res = res + i\n",
        "print('sentence without punctuation',res)\n",
        "\n",
        "#2.5 Count the number of vowels in the sentences. Print out each vowel and the number of times it appears in the sentences, such as: a:2, e:1, i:0, etc\n",
        "\n",
        "vowels = ['a', 'e', 'i', 'o', 'u', 'A', 'E', 'I', 'O', 'U']\n",
        "res = dict()\n",
        "for i in vowels:\n",
        "  if i in vowels:\n",
        "    n = input1.count(i)\n",
        "    if n > 0:\n",
        "      res[i] = n\n",
        "print (res)"
      ],
      "execution_count": 18,
      "outputs": [
        {
          "output_type": "stream",
          "text": [
            "Enter a sentence hello! hai\n",
            "['hello', '!', 'hai']\n",
            "Enter a sentence hai!!\n",
            "['hai', '!', '!']\n",
            "common elements are ['!', 'hai']\n",
            "sentence without punctuation hello hai\n",
            "{'a': 1, 'e': 1, 'i': 1, 'o': 1}\n"
          ],
          "name": "stdout"
        }
      ]
    },
    {
      "cell_type": "markdown",
      "metadata": {
        "id": "CmFoI4jDS9nx"
      },
      "source": [
        "# Question 3 \n",
        "\n",
        "(15 points). The formula that describes the volume V of a sphere with radius r is the following:\n",
        "\n",
        "$ V=\\frac{4}{3}\\ast\\ \\pi\\ast\\ r^3 $\n",
        "\n",
        "Write a program to calculate the value of V when r is in the range of 1–10. Output the result in the following format:\n",
        "\n",
        "\tr\tV\n",
        "\t1\t…\n",
        "\t2\t…\n",
        "\t3\t…\n"
      ]
    },
    {
      "cell_type": "code",
      "metadata": {
        "colab": {
          "base_uri": "https://localhost:8080/"
        },
        "id": "pEyqeioAT95b",
        "outputId": "48459ec4-8ccd-4bb2-e3d2-16b5efc19bab"
      },
      "source": [
        "# Your code here\n",
        "import math\n",
        "def volumeOfSphere(r):\n",
        "  return (4/3*math.pi*r**3)\n",
        "\n",
        "print('r   V')\n",
        "\n",
        "for r in range(11):\n",
        "  print(str(r) + '   ' +str(volumeOfSphere(r)))\n"
      ],
      "execution_count": 28,
      "outputs": [
        {
          "output_type": "stream",
          "text": [
            "r   V\n",
            "0   0.0\n",
            "1   4.1887902047863905\n",
            "2   33.510321638291124\n",
            "3   113.09733552923254\n",
            "4   268.082573106329\n",
            "5   523.5987755982989\n",
            "6   904.7786842338603\n",
            "7   1436.7550402417319\n",
            "8   2144.660584850632\n",
            "9   3053.6280592892786\n",
            "10   4188.790204786391\n"
          ],
          "name": "stdout"
        }
      ]
    },
    {
      "cell_type": "markdown",
      "metadata": {
        "id": "z3tBE7E-Xn5X"
      },
      "source": [
        "# Question 4\n",
        "\n",
        "(40 points). In the field of Data Science, data is often formatted as a comma-delimited (CSV) file, where each line in a file corresponds to a field's value. Refer to Chapter 9 (p. 106) for more information on comma-delimited files. To answer this question, you will need to download the file [Assignment1_denton_housing.csv](https://github.com/unt-iialab/info5731_spring2021/blob/main/assignment/Assignment1_denton_housing.csv) included with this assignment. The file [Assignment1_denton_housing.csv](https://github.com/unt-iialab/info5731_spring2021/blob/main/assignment/Assignment1_denton_housing.csv) contains statistics about housing in the city of Denton from 2008 to 2014. Write a program to implement the following questions.\n",
        "\n",
        "(1) (10 pts) Calculate the difference in the number of Occupied Housing Units from year to year and print it. The difference must be calculated for the consecutive years such as 2008-2009, 2009-2010 etc. Finally, print the values in the ascending order.\n",
        "\n",
        "(2) (10 pts) For all the years, calculate the percentage of housing units which are vacant an occupied. Print the results in the following format:\n",
        "\n",
        "Year Vacant Housing Units Occupied Housing Units\n",
        "\n",
        "    2008  30%   70%                          \n",
        "\t2009 ----- -----\n",
        "\t2010 ----- -----\n",
        "    2011 ----- -----\n",
        "\t2012 ----- -----\n",
        "    2013 ----- -----\n",
        "\t2014 ----- -----\n",
        "  \n",
        "  \n",
        "\n",
        "(3) (10 pts) Calculate and print the valued and years in which the highest number of housing units were vacant and occupied. Print the results in the following format:  \n",
        "\n",
        "                              Year\tValue\n",
        "\tVacant Housing Units\t  -----   -----\n",
        "\tOccupied Housing Units\t-----   -----\n",
        "\n",
        "(4) (10 pts) Calculate the harmonic mean of the total housing units and print it out. You can find the information about harmonic mean here: https://ncalculators.com/statistics/harmonic-mean-calculator.htm"
      ]
    },
    {
      "cell_type": "code",
      "metadata": {
        "colab": {
          "base_uri": "https://localhost:8080/"
        },
        "id": "lqGYuHBhcsRH",
        "outputId": "4cb7a3fa-f9d1-40a4-dafd-24fe7be3e413"
      },
      "source": [
        "# Your code here\n",
        "\n",
        "import pandas \n",
        "data = pandas.read_csv(\"https://raw.githubusercontent.com/unt-iialab/info5731_spring2021/main/assignment/Assignment1_denton_housing.csv\",skip_blank_lines=True)\n",
        "\n",
        "# 4.1\n",
        "\n",
        "data = data[data.title_field == 'Occupied Housing Units']\n",
        "data = data.value\n",
        "data.diff().sort_values()"
      ],
      "execution_count": 39,
      "outputs": [
        {
          "output_type": "execute_result",
          "data": {
            "text/plain": [
              "17   -5091.0\n",
              "5    -2622.0\n",
              "8    -1565.0\n",
              "11   -1404.0\n",
              "14     303.0\n",
              "20     795.0\n",
              "2        NaN\n",
              "Name: value, dtype: float64"
            ]
          },
          "metadata": {
            "tags": []
          },
          "execution_count": 39
        }
      ]
    },
    {
      "cell_type": "code",
      "metadata": {
        "colab": {
          "base_uri": "https://localhost:8080/"
        },
        "id": "comCkxAqU9Cb",
        "outputId": "3df99390-b49e-4b95-a3ae-6584423f625f"
      },
      "source": [
        "\r\n",
        "# 4.2\r\n",
        "\r\n",
        "data = pandas.read_csv(\"https://raw.githubusercontent.com/unt-iialab/info5731_spring2021/main/assignment/Assignment1_denton_housing.csv\",skip_blank_lines=True)\r\n",
        "\r\n",
        "occupied_houses = data[data['title_field'] == 'Occupied Housing Units'].sort_values(by = ['year'])\r\n",
        "vacant_houses = data[data['title_field'] == 'Vacant Housing Units'].sort_values(by = ['year'])\r\n",
        "merged = pandas.merge(occupied_houses,vacant_houses,on=['year'])\r\n",
        "merged['occupied_housing_per'] = (merged['value_x']/(merged['value_x']+merged['value_y']))*100\r\n",
        "merged['vacant_housing_per'] = (merged['value_y']/(merged['value_x']+merged['value_y']))*100\r\n",
        "\r\n",
        "\r\n",
        "res = merged[['year','occupied_housing_per','vacant_housing_per']]\r\n",
        "print(res)\r\n",
        "\r\n"
      ],
      "execution_count": 48,
      "outputs": [
        {
          "output_type": "stream",
          "text": [
            "   year  occupied_housing_per  vacant_housing_per\n",
            "0  2008             89.117347           10.882653\n",
            "1  2009             90.928884            9.071116\n",
            "2  2010             91.857444            8.142556\n",
            "3  2011             90.620478            9.379522\n",
            "4  2012             93.322400            6.677600\n",
            "5  2013             91.198212            8.801788\n",
            "6  2014             94.269889            5.730111\n"
          ],
          "name": "stdout"
        }
      ]
    },
    {
      "cell_type": "code",
      "metadata": {
        "colab": {
          "base_uri": "https://localhost:8080/"
        },
        "id": "_heoNDgfzPcs",
        "outputId": "10e6d925-b43f-4fe6-9fd7-02633a42b793"
      },
      "source": [
        "#4.3\r\n",
        "\r\n",
        "df = pandas.read_csv(\"https://raw.githubusercontent.com/unt-iialab/info5731_spring2021/main/assignment/Assignment1_denton_housing.csv\",skip_blank_lines=True)\r\n",
        "\r\n",
        "maximum = data.loc[data['title_field'] == 'Occupied Housing Units','value'].max()\r\n",
        "res1 = data.loc[data['value'] == maximum]\r\n",
        "\r\n",
        "\r\n",
        "final_table1 = res1[['title_field', 'year', 'value']]\r\n",
        "\r\n",
        "vaccant_max = data.loc[data['title_field'] == 'Vacant Housing Units','value'].max()\r\n",
        "res2 = data.loc[data['value'] == vaccant_max]\r\n",
        "\r\n",
        "res = res2[['title_field', 'year', 'value']]\r\n",
        "\r\n",
        "result = pandas.concat([res, final_table1])\r\n",
        "print (result)"
      ],
      "execution_count": 54,
      "outputs": [
        {
          "output_type": "stream",
          "text": [
            "               title_field  year  value\n",
            "19    Vacant Housing Units  2008   4483\n",
            "2   Occupied Housing Units  2014  46295\n"
          ],
          "name": "stdout"
        }
      ]
    },
    {
      "cell_type": "code",
      "metadata": {
        "colab": {
          "base_uri": "https://localhost:8080/"
        },
        "id": "8IRjZnV4zTYn",
        "outputId": "3f6712ac-2e04-4ea8-9c2a-5a52ea5c7929"
      },
      "source": [
        "#4.4\r\n",
        "import statistics\r\n",
        "\r\n",
        "\r\n",
        "data = pandas.read_csv(\"https://raw.githubusercontent.com/unt-iialab/info5731_spring2021/main/assignment/Assignment1_denton_housing.csv\",skip_blank_lines=True)\r\n",
        "#print(df.head())\r\n",
        "res = data.loc[data['title_field'] == 'Total Housing Units', 'value'].values\r\n",
        "#print (total_elements)\r\n",
        "\r\n",
        "statistics.harmonic_mean(res)"
      ],
      "execution_count": 50,
      "outputs": [
        {
          "output_type": "execute_result",
          "data": {
            "text/plain": [
              "44398.28543969185"
            ]
          },
          "metadata": {
            "tags": []
          },
          "execution_count": 50
        }
      ]
    }
  ]
}